{
 "cells": [
  {
   "cell_type": "markdown",
   "metadata": {},
   "source": [
    "# Amazon Fine Food Reviews Analysis\n",
    "\n",
    "\n",
    "Data Source: https://www.kaggle.com/snap/amazon-fine-food-reviews <br>\n",
    "\n",
    "EDA: https://nycdatascience.com/blog/student-works/amazon-fine-foods-visualization/\n",
    "\n",
    "\n",
    "The Amazon Fine Food Reviews dataset consists of reviews of fine foods from Amazon.<br>\n",
    "\n",
    "Number of reviews: 568,454<br>\n",
    "Number of users: 256,059<br>\n",
    "Number of products: 74,258<br>\n",
    "Timespan: Oct 1999 - Oct 2012<br>\n",
    "Number of Attributes/Columns in data: 10 \n",
    "\n",
    "Attribute Information:\n",
    "\n",
    "1. Id\n",
    "2. ProductId - unique identifier for the product\n",
    "3. UserId - unqiue identifier for the user\n",
    "4. ProfileName\n",
    "5. HelpfulnessNumerator - number of users who found the review helpful\n",
    "6. HelpfulnessDenominator - number of users who indicated whether they found the review helpful or not\n",
    "7. Score - rating between 1 and 5\n",
    "8. Time - timestamp for the review\n",
    "9. Summary - brief summary of the review\n",
    "10. Text - text of the review\n",
    "\n",
    "\n",
    "#### Objective:\n",
    "Given a review, determine whether the review is positive (rating of 4 or 5) or negative (rating of 1 or 2).\n",
    "\n",
    "<br>\n",
    "[Q] How to determine if a review is positive or negative?<br>\n",
    "<br> \n",
    "[Ans] We could use Score/Rating. A rating of 4 or 5 can be cosnidered as a positive review. A rating of 1 or 2 can be considered as negative one. A review of rating 3 is considered nuetral and such reviews are ignored from our analysis. This is an approximate and proxy way of determining the polarity (positivity/negativity) of a review.\n",
    "\n",
    "\n"
   ]
  },
  {
   "cell_type": "markdown",
   "metadata": {},
   "source": [
    "# [1]. Reading Data"
   ]
  },
  {
   "cell_type": "markdown",
   "metadata": {},
   "source": [
    "## [1.1] Loading the data\n",
    "\n",
    "The dataset is available in two forms\n",
    "1. .csv file\n",
    "2. SQLite Database\n",
    "\n",
    "In order to load the data, We have used the SQLITE dataset as it is easier to query the data and visualise the data efficiently.\n",
    "<br> \n",
    "\n",
    "Here as we only want to get the global sentiment of the recommendations (positive or negative), we will purposefully ignore all Scores equal to 3. If the score is above 3, then the recommendation wil be set to \"positive\". Otherwise, it will be set to \"negative\"."
   ]
  },
  {
   "cell_type": "code",
   "execution_count": 1,
   "metadata": {},
   "outputs": [],
   "source": [
    "%matplotlib inline\n",
    "import warnings\n",
    "warnings.filterwarnings(\"ignore\")\n",
    "\n",
    "\n",
    "import sqlite3\n",
    "import pandas as pd\n",
    "import numpy as np\n",
    "import nltk\n",
    "import string\n",
    "import matplotlib.pyplot as plt\n",
    "import seaborn as sns\n",
    "\n",
    "from sklearn.model_selection import train_test_split\n",
    "from sklearn.neighbors import KNeighborsClassifier\n",
    "from sklearn.feature_extraction.text import TfidfTransformer\n",
    "from sklearn.feature_extraction.text import TfidfVectorizer\n",
    "from sklearn.feature_extraction.text import CountVectorizer\n",
    "\n",
    "from sklearn import metrics\n",
    "from sklearn.metrics import classification_report\n",
    "from sklearn.metrics import roc_curve, auc,roc_auc_score\n",
    "from sklearn.metrics import confusion_matrix\n",
    "from sklearn.svm import SVC\n",
    "\n",
    "from nltk.stem.porter import PorterStemmer\n",
    "\n",
    "from  sklearn.calibration import CalibratedClassifierCV\n",
    "\n",
    "import re\n",
    "# Tutorial about Python regular expressions: https://pymotw.com/2/re/\n",
    "import string\n",
    "from nltk.corpus import stopwords\n",
    "from nltk.stem import PorterStemmer\n",
    "from nltk.stem.wordnet import WordNetLemmatizer\n",
    "\n",
    "from prettytable import PrettyTable\n",
    "from sklearn.linear_model import SGDClassifier\n",
    "from gensim.models import Word2Vec\n",
    "from gensim.models import KeyedVectors\n",
    "import pickle\n",
    "\n",
    "from tqdm import tqdm\n",
    "import os"
   ]
  },
  {
   "cell_type": "code",
   "execution_count": 2,
   "metadata": {},
   "outputs": [],
   "source": [
    "\n",
    "# using the SQLite Table to read data.\n",
    "con = sqlite3.connect(r'C:\\Sandy\\privy\\AI\\Data Sets\\Amazon Food rev dataset\\database.sqlite') \n"
   ]
  },
  {
   "cell_type": "code",
   "execution_count": 3,
   "metadata": {},
   "outputs": [
    {
     "name": "stdout",
     "output_type": "stream",
     "text": [
      "Total Sample Points :  (40000, 10)\n",
      "\n",
      " Sample Points : \n"
     ]
    },
    {
     "data": {
      "text/html": [
       "<div>\n",
       "<style scoped>\n",
       "    .dataframe tbody tr th:only-of-type {\n",
       "        vertical-align: middle;\n",
       "    }\n",
       "\n",
       "    .dataframe tbody tr th {\n",
       "        vertical-align: top;\n",
       "    }\n",
       "\n",
       "    .dataframe thead th {\n",
       "        text-align: right;\n",
       "    }\n",
       "</style>\n",
       "<table border=\"1\" class=\"dataframe\">\n",
       "  <thead>\n",
       "    <tr style=\"text-align: right;\">\n",
       "      <th></th>\n",
       "      <th>Id</th>\n",
       "      <th>ProductId</th>\n",
       "      <th>UserId</th>\n",
       "      <th>ProfileName</th>\n",
       "      <th>HelpfulnessNumerator</th>\n",
       "      <th>HelpfulnessDenominator</th>\n",
       "      <th>Score</th>\n",
       "      <th>Time</th>\n",
       "      <th>Summary</th>\n",
       "      <th>Text</th>\n",
       "    </tr>\n",
       "  </thead>\n",
       "  <tbody>\n",
       "    <tr>\n",
       "      <td>0</td>\n",
       "      <td>230269</td>\n",
       "      <td>B00004RYGX</td>\n",
       "      <td>A1B2IZU1JLZA6</td>\n",
       "      <td>Wes</td>\n",
       "      <td>19</td>\n",
       "      <td>23</td>\n",
       "      <td>1</td>\n",
       "      <td>948240000</td>\n",
       "      <td>WARNING: CLAMSHELL EDITION IS EDITED TV VERSION</td>\n",
       "      <td>I, myself always enjoyed this movie, it's very...</td>\n",
       "    </tr>\n",
       "    <tr>\n",
       "      <td>1</td>\n",
       "      <td>374343</td>\n",
       "      <td>B00004CI84</td>\n",
       "      <td>A1B2IZU1JLZA6</td>\n",
       "      <td>Wes</td>\n",
       "      <td>19</td>\n",
       "      <td>23</td>\n",
       "      <td>1</td>\n",
       "      <td>948240000</td>\n",
       "      <td>WARNING: CLAMSHELL EDITION IS EDITED TV VERSION</td>\n",
       "      <td>I, myself always enjoyed this movie, it's very...</td>\n",
       "    </tr>\n",
       "    <tr>\n",
       "      <td>2</td>\n",
       "      <td>451864</td>\n",
       "      <td>B00004CXX9</td>\n",
       "      <td>A1B2IZU1JLZA6</td>\n",
       "      <td>Wes</td>\n",
       "      <td>19</td>\n",
       "      <td>23</td>\n",
       "      <td>1</td>\n",
       "      <td>948240000</td>\n",
       "      <td>WARNING: CLAMSHELL EDITION IS EDITED TV VERSION</td>\n",
       "      <td>I, myself always enjoyed this movie, it's very...</td>\n",
       "    </tr>\n",
       "    <tr>\n",
       "      <td>3</td>\n",
       "      <td>451923</td>\n",
       "      <td>B00004CXX9</td>\n",
       "      <td>ANIMV3SPDD8SH</td>\n",
       "      <td>Guy De Federicis</td>\n",
       "      <td>1</td>\n",
       "      <td>12</td>\n",
       "      <td>2</td>\n",
       "      <td>992217600</td>\n",
       "      <td>CASPER IS THE GHOST WITH THE MOST</td>\n",
       "      <td>Michael Keaton brings no distinguishing charac...</td>\n",
       "    </tr>\n",
       "    <tr>\n",
       "      <td>4</td>\n",
       "      <td>230265</td>\n",
       "      <td>B00004RYGX</td>\n",
       "      <td>AZRJH4JFB59VC</td>\n",
       "      <td>Lynwood E. Hines</td>\n",
       "      <td>21</td>\n",
       "      <td>23</td>\n",
       "      <td>1</td>\n",
       "      <td>997228800</td>\n",
       "      <td>Great movie, terrible DVD</td>\n",
       "      <td>I am continually amazed at the shoddy treatmen...</td>\n",
       "    </tr>\n",
       "  </tbody>\n",
       "</table>\n",
       "</div>"
      ],
      "text/plain": [
       "       Id   ProductId         UserId       ProfileName  HelpfulnessNumerator  \\\n",
       "0  230269  B00004RYGX  A1B2IZU1JLZA6               Wes                    19   \n",
       "1  374343  B00004CI84  A1B2IZU1JLZA6               Wes                    19   \n",
       "2  451864  B00004CXX9  A1B2IZU1JLZA6               Wes                    19   \n",
       "3  451923  B00004CXX9  ANIMV3SPDD8SH  Guy De Federicis                     1   \n",
       "4  230265  B00004RYGX  AZRJH4JFB59VC  Lynwood E. Hines                    21   \n",
       "\n",
       "   HelpfulnessDenominator  Score       Time  \\\n",
       "0                      23      1  948240000   \n",
       "1                      23      1  948240000   \n",
       "2                      23      1  948240000   \n",
       "3                      12      2  992217600   \n",
       "4                      23      1  997228800   \n",
       "\n",
       "                                           Summary  \\\n",
       "0  WARNING: CLAMSHELL EDITION IS EDITED TV VERSION   \n",
       "1  WARNING: CLAMSHELL EDITION IS EDITED TV VERSION   \n",
       "2  WARNING: CLAMSHELL EDITION IS EDITED TV VERSION   \n",
       "3                CASPER IS THE GHOST WITH THE MOST   \n",
       "4                        Great movie, terrible DVD   \n",
       "\n",
       "                                                Text  \n",
       "0  I, myself always enjoyed this movie, it's very...  \n",
       "1  I, myself always enjoyed this movie, it's very...  \n",
       "2  I, myself always enjoyed this movie, it's very...  \n",
       "3  Michael Keaton brings no distinguishing charac...  \n",
       "4  I am continually amazed at the shoddy treatmen...  "
      ]
     },
     "execution_count": 3,
     "metadata": {},
     "output_type": "execute_result"
    }
   ],
   "source": [
    "#preprocessed_data=pd.read_sql_query(\"\"\" SELECT * FROM Reviews  ORDER BY time LIMIT 300\"\"\", con) \n",
    "#filtering only positive and negative reviews i.e. \n",
    "# not taking into consideration those reviews with Score=3\n",
    "# SELECT * FROM Reviews WHERE Score != 3 LIMIT 500000, will give top 500000 data points\n",
    "# you can change the number to any other number based on your computing power\n",
    "\n",
    "#Took 3000 points from each Category i.e from Positive reviews and Negative Reviews\n",
    "#Negative Data\n",
    "Neg_data = pd.read_sql_query(\"\"\" SELECT * FROM Reviews WHERE Score < 3 ORDER BY time LIMIT 20000\"\"\", con) \n",
    "#Positive Data\n",
    "Pos_data = pd.read_sql_query(\"\"\" SELECT * FROM Reviews WHERE Score >= 3  ORDER BY time LIMIT 20000\"\"\", con) \n",
    "\n",
    "Neg_data.head()\n",
    "preprocessed_data =pd.concat([Neg_data,Pos_data])\n",
    "print(\"Total Sample Points : \",preprocessed_data.shape)\n",
    "#filtered_data = pd.read_sql_query(\"\"\" SELECT * FROM Reviews WHERE Score != 3 \"\"\", con)\n",
    "print(\"\\n Sample Points : \")\n",
    "preprocessed_data.head()"
   ]
  },
  {
   "cell_type": "code",
   "execution_count": 4,
   "metadata": {},
   "outputs": [],
   "source": [
    "preprocessed_data=preprocessed_data[preprocessed_data['HelpfulnessNumerator']<=preprocessed_data['HelpfulnessDenominator']]"
   ]
  },
  {
   "cell_type": "code",
   "execution_count": 5,
   "metadata": {},
   "outputs": [
    {
     "data": {
      "text/plain": [
       "(40000, 10)"
      ]
     },
     "execution_count": 5,
     "metadata": {},
     "output_type": "execute_result"
    }
   ],
   "source": [
    "preprocessed_data.shape"
   ]
  },
  {
   "cell_type": "markdown",
   "metadata": {},
   "source": [
    "#  [2] Exploratory Data Analysis"
   ]
  },
  {
   "cell_type": "markdown",
   "metadata": {},
   "source": [
    "## [2.1] Data Cleaning: Deduplication\n",
    "\n",
    "It is observed (as shown in the table below) that the reviews data had many duplicate entries. Hence it was necessary to remove duplicates in order to get unbiased results for the analysis of the data.  Following is an example:"
   ]
  },
  {
   "cell_type": "code",
   "execution_count": 6,
   "metadata": {},
   "outputs": [
    {
     "data": {
      "text/html": [
       "<div>\n",
       "<style scoped>\n",
       "    .dataframe tbody tr th:only-of-type {\n",
       "        vertical-align: middle;\n",
       "    }\n",
       "\n",
       "    .dataframe tbody tr th {\n",
       "        vertical-align: top;\n",
       "    }\n",
       "\n",
       "    .dataframe thead th {\n",
       "        text-align: right;\n",
       "    }\n",
       "</style>\n",
       "<table border=\"1\" class=\"dataframe\">\n",
       "  <thead>\n",
       "    <tr style=\"text-align: right;\">\n",
       "      <th></th>\n",
       "      <th>Id</th>\n",
       "      <th>ProductId</th>\n",
       "      <th>UserId</th>\n",
       "      <th>ProfileName</th>\n",
       "      <th>HelpfulnessNumerator</th>\n",
       "      <th>HelpfulnessDenominator</th>\n",
       "      <th>Score</th>\n",
       "      <th>Time</th>\n",
       "      <th>Summary</th>\n",
       "      <th>Text</th>\n",
       "    </tr>\n",
       "  </thead>\n",
       "  <tbody>\n",
       "    <tr>\n",
       "      <td>80</td>\n",
       "      <td>150525</td>\n",
       "      <td>0006641040</td>\n",
       "      <td>A2QID6VCFTY51R</td>\n",
       "      <td>Rick</td>\n",
       "      <td>1</td>\n",
       "      <td>2</td>\n",
       "      <td>5</td>\n",
       "      <td>1025481600</td>\n",
       "      <td>In December it will be, my snowman's anniversa...</td>\n",
       "      <td>My daughter loves all the \"Really Rosie\" books...</td>\n",
       "    </tr>\n",
       "    <tr>\n",
       "      <td>569</td>\n",
       "      <td>150493</td>\n",
       "      <td>0006641040</td>\n",
       "      <td>AMX0PJKV4PPNJ</td>\n",
       "      <td>E. R. Bird \"Ramseelbird\"</td>\n",
       "      <td>71</td>\n",
       "      <td>72</td>\n",
       "      <td>4</td>\n",
       "      <td>1096416000</td>\n",
       "      <td>Read it once. Read it twice. Reading Chicken S...</td>\n",
       "      <td>These days, when a person says, \"chicken soup\"...</td>\n",
       "    </tr>\n",
       "    <tr>\n",
       "      <td>43</td>\n",
       "      <td>150500</td>\n",
       "      <td>0006641040</td>\n",
       "      <td>A1IJKK6Q1GTEAY</td>\n",
       "      <td>A Customer</td>\n",
       "      <td>2</td>\n",
       "      <td>2</td>\n",
       "      <td>5</td>\n",
       "      <td>1009324800</td>\n",
       "      <td>It Was a favorite!</td>\n",
       "      <td>This was a favorite book of mine when I was a ...</td>\n",
       "    </tr>\n",
       "    <tr>\n",
       "      <td>68</td>\n",
       "      <td>150509</td>\n",
       "      <td>0006641040</td>\n",
       "      <td>A3CMRKGE0P909G</td>\n",
       "      <td>Teresa</td>\n",
       "      <td>3</td>\n",
       "      <td>4</td>\n",
       "      <td>5</td>\n",
       "      <td>1018396800</td>\n",
       "      <td>A great way to learn the months</td>\n",
       "      <td>This is a book of poetry about the months of t...</td>\n",
       "    </tr>\n",
       "    <tr>\n",
       "      <td>14368</td>\n",
       "      <td>150498</td>\n",
       "      <td>0006641040</td>\n",
       "      <td>A3SJWISOCP31TR</td>\n",
       "      <td>R. J. Wells</td>\n",
       "      <td>2</td>\n",
       "      <td>2</td>\n",
       "      <td>5</td>\n",
       "      <td>1176336000</td>\n",
       "      <td>A Gem of a Book</td>\n",
       "      <td>This is a wonderful little book. I loved it 40...</td>\n",
       "    </tr>\n",
       "    <tr>\n",
       "      <td>...</td>\n",
       "      <td>...</td>\n",
       "      <td>...</td>\n",
       "      <td>...</td>\n",
       "      <td>...</td>\n",
       "      <td>...</td>\n",
       "      <td>...</td>\n",
       "      <td>...</td>\n",
       "      <td>...</td>\n",
       "      <td>...</td>\n",
       "      <td>...</td>\n",
       "    </tr>\n",
       "    <tr>\n",
       "      <td>12530</td>\n",
       "      <td>360574</td>\n",
       "      <td>B009M2LRTA</td>\n",
       "      <td>A1DY3EW6Q0B5K5</td>\n",
       "      <td>Cara Hansson</td>\n",
       "      <td>0</td>\n",
       "      <td>2</td>\n",
       "      <td>2</td>\n",
       "      <td>1259625600</td>\n",
       "      <td>ew... very alcoholy</td>\n",
       "      <td>to me the orange one tastes like vodka!!! I ca...</td>\n",
       "    </tr>\n",
       "    <tr>\n",
       "      <td>4765</td>\n",
       "      <td>501584</td>\n",
       "      <td>B009M2LUEW</td>\n",
       "      <td>A1PY4BCMI543EX</td>\n",
       "      <td>E. Barrios</td>\n",
       "      <td>4</td>\n",
       "      <td>17</td>\n",
       "      <td>1</td>\n",
       "      <td>1214611200</td>\n",
       "      <td>Yuck!</td>\n",
       "      <td>I'm a big fan of Zevia sodas and drink several...</td>\n",
       "    </tr>\n",
       "    <tr>\n",
       "      <td>10071</td>\n",
       "      <td>32541</td>\n",
       "      <td>B009NTCO4O</td>\n",
       "      <td>A3DO26SPN14CG1</td>\n",
       "      <td>M. Grinnell</td>\n",
       "      <td>9</td>\n",
       "      <td>9</td>\n",
       "      <td>5</td>\n",
       "      <td>1169164800</td>\n",
       "      <td>Great gift!</td>\n",
       "      <td>I gave this to my Brother-in-law's family for ...</td>\n",
       "    </tr>\n",
       "    <tr>\n",
       "      <td>11741</td>\n",
       "      <td>264593</td>\n",
       "      <td>B009QEBGIQ</td>\n",
       "      <td>A3R6YKLCA0L5N0</td>\n",
       "      <td>minette</td>\n",
       "      <td>15</td>\n",
       "      <td>17</td>\n",
       "      <td>5</td>\n",
       "      <td>1172188800</td>\n",
       "      <td>Exceptional Rice!</td>\n",
       "      <td>I've tasted different rice varieties and this ...</td>\n",
       "    </tr>\n",
       "    <tr>\n",
       "      <td>15818</td>\n",
       "      <td>264594</td>\n",
       "      <td>B009QEBGIQ</td>\n",
       "      <td>A2VVX8QLABUKRG</td>\n",
       "      <td>jennmommi</td>\n",
       "      <td>9</td>\n",
       "      <td>11</td>\n",
       "      <td>5</td>\n",
       "      <td>1179100800</td>\n",
       "      <td>Great for Sushi</td>\n",
       "      <td>This was recommended on a Sushi making site an...</td>\n",
       "    </tr>\n",
       "  </tbody>\n",
       "</table>\n",
       "<p>40000 rows × 10 columns</p>\n",
       "</div>"
      ],
      "text/plain": [
       "           Id   ProductId          UserId               ProfileName  \\\n",
       "80     150525  0006641040  A2QID6VCFTY51R                      Rick   \n",
       "569    150493  0006641040   AMX0PJKV4PPNJ  E. R. Bird \"Ramseelbird\"   \n",
       "43     150500  0006641040  A1IJKK6Q1GTEAY                A Customer   \n",
       "68     150509  0006641040  A3CMRKGE0P909G                    Teresa   \n",
       "14368  150498  0006641040  A3SJWISOCP31TR               R. J. Wells   \n",
       "...       ...         ...             ...                       ...   \n",
       "12530  360574  B009M2LRTA  A1DY3EW6Q0B5K5              Cara Hansson   \n",
       "4765   501584  B009M2LUEW  A1PY4BCMI543EX                E. Barrios   \n",
       "10071   32541  B009NTCO4O  A3DO26SPN14CG1               M. Grinnell   \n",
       "11741  264593  B009QEBGIQ  A3R6YKLCA0L5N0                   minette   \n",
       "15818  264594  B009QEBGIQ  A2VVX8QLABUKRG                 jennmommi   \n",
       "\n",
       "       HelpfulnessNumerator  HelpfulnessDenominator  Score        Time  \\\n",
       "80                        1                       2      5  1025481600   \n",
       "569                      71                      72      4  1096416000   \n",
       "43                        2                       2      5  1009324800   \n",
       "68                        3                       4      5  1018396800   \n",
       "14368                     2                       2      5  1176336000   \n",
       "...                     ...                     ...    ...         ...   \n",
       "12530                     0                       2      2  1259625600   \n",
       "4765                      4                      17      1  1214611200   \n",
       "10071                     9                       9      5  1169164800   \n",
       "11741                    15                      17      5  1172188800   \n",
       "15818                     9                      11      5  1179100800   \n",
       "\n",
       "                                                 Summary  \\\n",
       "80     In December it will be, my snowman's anniversa...   \n",
       "569    Read it once. Read it twice. Reading Chicken S...   \n",
       "43                                    It Was a favorite!   \n",
       "68                       A great way to learn the months   \n",
       "14368                                    A Gem of a Book   \n",
       "...                                                  ...   \n",
       "12530                                ew... very alcoholy   \n",
       "4765                                               Yuck!   \n",
       "10071                                        Great gift!   \n",
       "11741                                  Exceptional Rice!   \n",
       "15818                                    Great for Sushi   \n",
       "\n",
       "                                                    Text  \n",
       "80     My daughter loves all the \"Really Rosie\" books...  \n",
       "569    These days, when a person says, \"chicken soup\"...  \n",
       "43     This was a favorite book of mine when I was a ...  \n",
       "68     This is a book of poetry about the months of t...  \n",
       "14368  This is a wonderful little book. I loved it 40...  \n",
       "...                                                  ...  \n",
       "12530  to me the orange one tastes like vodka!!! I ca...  \n",
       "4765   I'm a big fan of Zevia sodas and drink several...  \n",
       "10071  I gave this to my Brother-in-law's family for ...  \n",
       "11741  I've tasted different rice varieties and this ...  \n",
       "15818  This was recommended on a Sushi making site an...  \n",
       "\n",
       "[40000 rows x 10 columns]"
      ]
     },
     "execution_count": 6,
     "metadata": {},
     "output_type": "execute_result"
    }
   ],
   "source": [
    "#Sorting data according to ProductId in ascending order\n",
    "preprocessed_data.sort_values('ProductId', axis=0, ascending=True, inplace=False, kind='quicksort', na_position='last')"
   ]
  },
  {
   "cell_type": "code",
   "execution_count": 7,
   "metadata": {},
   "outputs": [
    {
     "name": "stdout",
     "output_type": "stream",
     "text": [
      "Number of data points in our dataset (40000, 10)\n"
     ]
    },
    {
     "data": {
      "text/html": [
       "<div>\n",
       "<style scoped>\n",
       "    .dataframe tbody tr th:only-of-type {\n",
       "        vertical-align: middle;\n",
       "    }\n",
       "\n",
       "    .dataframe tbody tr th {\n",
       "        vertical-align: top;\n",
       "    }\n",
       "\n",
       "    .dataframe thead th {\n",
       "        text-align: right;\n",
       "    }\n",
       "</style>\n",
       "<table border=\"1\" class=\"dataframe\">\n",
       "  <thead>\n",
       "    <tr style=\"text-align: right;\">\n",
       "      <th></th>\n",
       "      <th>Id</th>\n",
       "      <th>ProductId</th>\n",
       "      <th>UserId</th>\n",
       "      <th>ProfileName</th>\n",
       "      <th>HelpfulnessNumerator</th>\n",
       "      <th>HelpfulnessDenominator</th>\n",
       "      <th>Score</th>\n",
       "      <th>Time</th>\n",
       "      <th>Summary</th>\n",
       "      <th>Text</th>\n",
       "    </tr>\n",
       "  </thead>\n",
       "  <tbody>\n",
       "    <tr>\n",
       "      <td>0</td>\n",
       "      <td>230269</td>\n",
       "      <td>B00004RYGX</td>\n",
       "      <td>A1B2IZU1JLZA6</td>\n",
       "      <td>Wes</td>\n",
       "      <td>19</td>\n",
       "      <td>23</td>\n",
       "      <td>0</td>\n",
       "      <td>948240000</td>\n",
       "      <td>WARNING: CLAMSHELL EDITION IS EDITED TV VERSION</td>\n",
       "      <td>I, myself always enjoyed this movie, it's very...</td>\n",
       "    </tr>\n",
       "    <tr>\n",
       "      <td>1</td>\n",
       "      <td>374343</td>\n",
       "      <td>B00004CI84</td>\n",
       "      <td>A1B2IZU1JLZA6</td>\n",
       "      <td>Wes</td>\n",
       "      <td>19</td>\n",
       "      <td>23</td>\n",
       "      <td>0</td>\n",
       "      <td>948240000</td>\n",
       "      <td>WARNING: CLAMSHELL EDITION IS EDITED TV VERSION</td>\n",
       "      <td>I, myself always enjoyed this movie, it's very...</td>\n",
       "    </tr>\n",
       "    <tr>\n",
       "      <td>2</td>\n",
       "      <td>451864</td>\n",
       "      <td>B00004CXX9</td>\n",
       "      <td>A1B2IZU1JLZA6</td>\n",
       "      <td>Wes</td>\n",
       "      <td>19</td>\n",
       "      <td>23</td>\n",
       "      <td>0</td>\n",
       "      <td>948240000</td>\n",
       "      <td>WARNING: CLAMSHELL EDITION IS EDITED TV VERSION</td>\n",
       "      <td>I, myself always enjoyed this movie, it's very...</td>\n",
       "    </tr>\n",
       "  </tbody>\n",
       "</table>\n",
       "</div>"
      ],
      "text/plain": [
       "       Id   ProductId         UserId ProfileName  HelpfulnessNumerator  \\\n",
       "0  230269  B00004RYGX  A1B2IZU1JLZA6         Wes                    19   \n",
       "1  374343  B00004CI84  A1B2IZU1JLZA6         Wes                    19   \n",
       "2  451864  B00004CXX9  A1B2IZU1JLZA6         Wes                    19   \n",
       "\n",
       "   HelpfulnessDenominator  Score       Time  \\\n",
       "0                      23      0  948240000   \n",
       "1                      23      0  948240000   \n",
       "2                      23      0  948240000   \n",
       "\n",
       "                                           Summary  \\\n",
       "0  WARNING: CLAMSHELL EDITION IS EDITED TV VERSION   \n",
       "1  WARNING: CLAMSHELL EDITION IS EDITED TV VERSION   \n",
       "2  WARNING: CLAMSHELL EDITION IS EDITED TV VERSION   \n",
       "\n",
       "                                                Text  \n",
       "0  I, myself always enjoyed this movie, it's very...  \n",
       "1  I, myself always enjoyed this movie, it's very...  \n",
       "2  I, myself always enjoyed this movie, it's very...  "
      ]
     },
     "execution_count": 7,
     "metadata": {},
     "output_type": "execute_result"
    }
   ],
   "source": [
    "# Give reviews with Score>3 a positive rating, and reviews with a score<3 a negative rating.\n",
    "def partition(x):\n",
    "    if x < 3:\n",
    "        return 0\n",
    "    return 1\n",
    "\n",
    "#changing reviews with score less than 3 to be positive and vice-versa\n",
    "actualScore = preprocessed_data['Score']\n",
    "positiveNegative = actualScore.map(partition) \n",
    "preprocessed_data['Score'] = positiveNegative\n",
    "print(\"Number of data points in our dataset\", preprocessed_data.shape)\n",
    "preprocessed_data.head(3)"
   ]
  },
  {
   "cell_type": "code",
   "execution_count": 8,
   "metadata": {},
   "outputs": [
    {
     "name": "stdout",
     "output_type": "stream",
     "text": [
      "(28281, 10)\n"
     ]
    }
   ],
   "source": [
    "#Deduplication of entries\n",
    "final_data=preprocessed_data.drop_duplicates(subset={\"UserId\",\"ProfileName\",\"Time\",\"Text\"}, keep='first', inplace=False)\n",
    "\n",
    "print(final_data.shape)\n",
    "\n"
   ]
  },
  {
   "cell_type": "code",
   "execution_count": 9,
   "metadata": {},
   "outputs": [
    {
     "data": {
      "text/plain": [
       "70.7025"
      ]
     },
     "execution_count": 9,
     "metadata": {},
     "output_type": "execute_result"
    }
   ],
   "source": [
    "#Checking to see how much % of data still remains\n",
    "\n",
    "(final_data['Id'].size*1.0)/(preprocessed_data['Id'].size*1.0)*100"
   ]
  },
  {
   "cell_type": "code",
   "execution_count": 10,
   "metadata": {},
   "outputs": [
    {
     "data": {
      "text/html": [
       "<div>\n",
       "<style scoped>\n",
       "    .dataframe tbody tr th:only-of-type {\n",
       "        vertical-align: middle;\n",
       "    }\n",
       "\n",
       "    .dataframe tbody tr th {\n",
       "        vertical-align: top;\n",
       "    }\n",
       "\n",
       "    .dataframe thead th {\n",
       "        text-align: right;\n",
       "    }\n",
       "</style>\n",
       "<table border=\"1\" class=\"dataframe\">\n",
       "  <thead>\n",
       "    <tr style=\"text-align: right;\">\n",
       "      <th></th>\n",
       "      <th>Id</th>\n",
       "      <th>ProductId</th>\n",
       "      <th>UserId</th>\n",
       "      <th>ProfileName</th>\n",
       "      <th>HelpfulnessNumerator</th>\n",
       "      <th>HelpfulnessDenominator</th>\n",
       "      <th>Score</th>\n",
       "      <th>Time</th>\n",
       "      <th>Summary</th>\n",
       "      <th>Text</th>\n",
       "    </tr>\n",
       "  </thead>\n",
       "  <tbody>\n",
       "    <tr>\n",
       "      <td>0</td>\n",
       "      <td>64422</td>\n",
       "      <td>B000MIDROQ</td>\n",
       "      <td>A161DK06JJMCYF</td>\n",
       "      <td>J. E. Stephens \"Jeanne\"</td>\n",
       "      <td>3</td>\n",
       "      <td>1</td>\n",
       "      <td>5</td>\n",
       "      <td>1224892800</td>\n",
       "      <td>Bought This for My Son at College</td>\n",
       "      <td>My son loves spaghetti so I didn't hesitate or...</td>\n",
       "    </tr>\n",
       "    <tr>\n",
       "      <td>1</td>\n",
       "      <td>44737</td>\n",
       "      <td>B001EQ55RW</td>\n",
       "      <td>A2V0I904FH7ABY</td>\n",
       "      <td>Ram</td>\n",
       "      <td>3</td>\n",
       "      <td>2</td>\n",
       "      <td>4</td>\n",
       "      <td>1212883200</td>\n",
       "      <td>Pure cocoa taste with crunchy almonds inside</td>\n",
       "      <td>It was almost a 'love at first bite' - the per...</td>\n",
       "    </tr>\n",
       "  </tbody>\n",
       "</table>\n",
       "</div>"
      ],
      "text/plain": [
       "      Id   ProductId          UserId              ProfileName  \\\n",
       "0  64422  B000MIDROQ  A161DK06JJMCYF  J. E. Stephens \"Jeanne\"   \n",
       "1  44737  B001EQ55RW  A2V0I904FH7ABY                      Ram   \n",
       "\n",
       "   HelpfulnessNumerator  HelpfulnessDenominator  Score        Time  \\\n",
       "0                     3                       1      5  1224892800   \n",
       "1                     3                       2      4  1212883200   \n",
       "\n",
       "                                        Summary  \\\n",
       "0             Bought This for My Son at College   \n",
       "1  Pure cocoa taste with crunchy almonds inside   \n",
       "\n",
       "                                                Text  \n",
       "0  My son loves spaghetti so I didn't hesitate or...  \n",
       "1  It was almost a 'love at first bite' - the per...  "
      ]
     },
     "execution_count": 10,
     "metadata": {},
     "output_type": "execute_result"
    }
   ],
   "source": [
    "display= pd.read_sql_query(\"\"\"\n",
    "SELECT *\n",
    "FROM Reviews\n",
    "WHERE Score != 3 AND Id=44737 OR Id=64422\n",
    "ORDER BY ProductID\n",
    "\"\"\", con)\n",
    "\n",
    "display.head()"
   ]
  },
  {
   "cell_type": "code",
   "execution_count": 11,
   "metadata": {},
   "outputs": [],
   "source": [
    "final=final_data[final_data.HelpfulnessNumerator<=final_data.HelpfulnessDenominator]"
   ]
  },
  {
   "cell_type": "code",
   "execution_count": 12,
   "metadata": {},
   "outputs": [
    {
     "data": {
      "text/plain": [
       "1    14329\n",
       "0    13952\n",
       "Name: Score, dtype: int64"
      ]
     },
     "execution_count": 12,
     "metadata": {},
     "output_type": "execute_result"
    }
   ],
   "source": [
    "final=final.sort_values('Time',axis=0, ascending=True , inplace=False, kind='quicksort', na_position='last')\n",
    "\n",
    "final['Score'].value_counts()"
   ]
  },
  {
   "cell_type": "code",
   "execution_count": 13,
   "metadata": {},
   "outputs": [
    {
     "name": "stdout",
     "output_type": "stream",
     "text": [
      "(28281, 10)\n",
      "28281\n"
     ]
    }
   ],
   "source": [
    "#Before starting the next phase of preprocessing lets see the number of entries left\n",
    "print(final.shape)\n",
    "\n",
    "#How many positive and negative reviews are present in our dataset?\n",
    "\n",
    "y=final[['Score']]\n",
    "print(len(y))"
   ]
  },
  {
   "cell_type": "markdown",
   "metadata": {},
   "source": [
    "#  [3] Preprocessing"
   ]
  },
  {
   "cell_type": "markdown",
   "metadata": {},
   "source": [
    "## [3.1].  Preprocessing Review Text\n",
    "\n",
    "Now that we have finished deduplication our data requires some preprocessing before we go on further with analysis and making the prediction model.\n",
    "\n",
    "Hence in the Preprocessing phase we do the following in the order below:-\n",
    "\n",
    "1. Begin by removing the html tags\n",
    "2. Remove any punctuations or limited set of special characters like , or . or # etc.\n",
    "3. Check if the word is made up of english letters and is not alpha-numeric\n",
    "4. Check to see if the length of the word is greater than 2 (as it was researched that there is no adjective in 2-letters)\n",
    "5. Convert the word to lowercase\n",
    "6. Remove Stopwords\n",
    "7. Finally Snowball Stemming the word (it was obsereved to be better than Porter Stemming)<br>\n",
    "\n",
    "After which we collect the words used to describe positive and negative reviews"
   ]
  },
  {
   "cell_type": "code",
   "execution_count": 14,
   "metadata": {},
   "outputs": [],
   "source": [
    "# https://stackoverflow.com/a/47091490/4084039\n",
    "import re\n",
    "\n",
    "def decontracted(phrase):\n",
    "    # specific\n",
    "    phrase = re.sub(r\"won't\", \"will not\", phrase)\n",
    "    phrase = re.sub(r\"can\\'t\", \"can not\", phrase)\n",
    "\n",
    "    # general\n",
    "    phrase = re.sub(r\"n\\'t\", \" not\", phrase)\n",
    "    phrase = re.sub(r\"\\'re\", \" are\", phrase)\n",
    "    phrase = re.sub(r\"\\'s\", \" is\", phrase)\n",
    "    phrase = re.sub(r\"\\'d\", \" would\", phrase)\n",
    "    phrase = re.sub(r\"\\'ll\", \" will\", phrase)\n",
    "    phrase = re.sub(r\"\\'t\", \" not\", phrase)\n",
    "    phrase = re.sub(r\"\\'ve\", \" have\", phrase)\n",
    "    phrase = re.sub(r\"\\'m\", \" am\", phrase)\n",
    "    return phrase"
   ]
  },
  {
   "cell_type": "code",
   "execution_count": 15,
   "metadata": {},
   "outputs": [],
   "source": [
    "# https://gist.github.com/sebleier/554280\n",
    "# we are removing the words from the stop words list: 'no', 'nor', 'not'\n",
    "# <br /><br /> ==> after the above steps, we are getting \"br br\"\n",
    "# we are including them into stop words list\n",
    "# instead of <br /> if we have <br/> these tags would have revmoved in the 1st step\n",
    "\n",
    "stopwords= set(['br', 'the', 'i', 'me', 'my', 'myself', 'we', 'our', 'ours', 'ourselves', 'you', \"you're\", \"you've\",\\\n",
    "            \"you'll\", \"you'd\", 'your', 'yours', 'yourself', 'yourselves', 'he', 'him', 'his', 'himself', \\\n",
    "            'she', \"she's\", 'her', 'hers', 'herself', 'it', \"it's\", 'its', 'itself', 'they', 'them', 'their',\\\n",
    "            'theirs', 'themselves', 'what', 'which', 'who', 'whom', 'this', 'that', \"that'll\", 'these', 'those', \\\n",
    "            'am', 'is', 'are', 'was', 'were', 'be', 'been', 'being', 'have', 'has', 'had', 'having', 'do', 'does', \\\n",
    "            'did', 'doing', 'a', 'an', 'the', 'and', 'but', 'if', 'or', 'because', 'as', 'until', 'while', 'of', \\\n",
    "            'at', 'by', 'for', 'with', 'about', 'against', 'between', 'into', 'through', 'during', 'before', 'after',\\\n",
    "            'above', 'below', 'to', 'from', 'up', 'down', 'in', 'out', 'on', 'off', 'over', 'under', 'again', 'further',\\\n",
    "            'then', 'once', 'here', 'there', 'when', 'where', 'why', 'how', 'all', 'any', 'both', 'each', 'few', 'more',\\\n",
    "            'most', 'other', 'some', 'such', 'only', 'own', 'same', 'so', 'than', 'too', 'very', \\\n",
    "            's', 't', 'can', 'will', 'just', 'don', \"don't\", 'should', \"should've\", 'now', 'd', 'll', 'm', 'o', 're', \\\n",
    "            've', 'y', 'ain', 'aren', \"aren't\", 'couldn', \"couldn't\", 'didn', \"didn't\", 'doesn', \"doesn't\", 'hadn',\\\n",
    "            \"hadn't\", 'hasn', \"hasn't\", 'haven', \"haven't\", 'isn', \"isn't\", 'ma', 'mightn', \"mightn't\", 'mustn',\\\n",
    "            \"mustn't\", 'needn', \"needn't\", 'shan', \"shan't\", 'shouldn', \"shouldn't\", 'wasn', \"wasn't\", 'weren', \"weren't\", \\\n",
    "            'won', \"won't\", 'wouldn', \"wouldn't\"])"
   ]
  },
  {
   "cell_type": "code",
   "execution_count": 16,
   "metadata": {},
   "outputs": [
    {
     "name": "stderr",
     "output_type": "stream",
     "text": [
      "100%|██████████████████████████████████████████████████████████████████████████| 28281/28281 [00:17<00:00, 1635.00it/s]\n"
     ]
    }
   ],
   "source": [
    "# Combining all the above stundents \n",
    "from tqdm import tqdm\n",
    "from bs4 import BeautifulSoup\n",
    "preprocessed_reviews_text = []\n",
    "# tqdm is for printing the status bar\n",
    "for sentance in tqdm(final['Text'].values):\n",
    "    sentance = re.sub(r\"http\\S+\", \"\", sentance)\n",
    "    sentance = BeautifulSoup(sentance, 'html.parser').get_text()\n",
    "    sentance = decontracted(sentance)\n",
    "    sentance = re.sub(\"\\S*\\d\\S*\", \"\", sentance).strip()\n",
    "    sentance = re.sub('[^A-Za-z]+', ' ', sentance)\n",
    "    # https://gist.github.com/sebleier/554280\n",
    "    sentance = ' '.join(e.lower() for e in sentance.split() if e.lower() not in stopwords)\n",
    "    preprocessed_reviews_text.append(sentance.strip())"
   ]
  },
  {
   "cell_type": "markdown",
   "metadata": {},
   "source": [
    "<h2><font color='red'>[3.2] Preprocessing Review Summary</font></h2>"
   ]
  },
  {
   "cell_type": "code",
   "execution_count": 17,
   "metadata": {},
   "outputs": [
    {
     "name": "stderr",
     "output_type": "stream",
     "text": [
      "100%|██████████████████████████████████████████████████████████████████████████| 28281/28281 [00:14<00:00, 1925.50it/s]\n"
     ]
    }
   ],
   "source": [
    "\n",
    "from tqdm import tqdm\n",
    "from bs4 import BeautifulSoup\n",
    "preprocessed_reviews_summary = []\n",
    "# tqdm is for printing the status bar\n",
    "for sentance in tqdm(final['Summary'].values):\n",
    "    sentance = re.sub(r\"http\\S+\", \"\", sentance)\n",
    "    sentance = BeautifulSoup(sentance, 'html.parser').get_text()\n",
    "    sentance = decontracted(sentance)\n",
    "    sentance = re.sub(\"\\S*\\d\\S*\", \"\", sentance).strip()\n",
    "    sentance = re.sub('[^A-Za-z]+', ' ', sentance)\n",
    "    # https://gist.github.com/sebleier/554280\n",
    "    sentance = ' '.join(e.lower() for e in sentance.split() if e.lower() not in stopwords)\n",
    "    preprocessed_reviews_summary.append(sentance.strip())"
   ]
  },
  {
   "cell_type": "markdown",
   "metadata": {},
   "source": [
    "<h2 style=\"background-color:#fffff\">Concatenating Summary and text reviews</h2>"
   ]
  },
  {
   "cell_type": "code",
   "execution_count": 18,
   "metadata": {},
   "outputs": [
    {
     "name": "stderr",
     "output_type": "stream",
     "text": [
      "100%|████████████████████████████████████████████████████████████████████████| 28281/28281 [00:00<00:00, 642838.39it/s]\n"
     ]
    }
   ],
   "source": [
    "preprocessed_reviews=[]\n",
    "for i in tqdm(range(len(preprocessed_reviews_text))):\n",
    "    preprocessed_reviews.append(preprocessed_reviews_text[i]+' '+preprocessed_reviews_summary[i])\n"
   ]
  },
  {
   "cell_type": "code",
   "execution_count": 19,
   "metadata": {},
   "outputs": [
    {
     "data": {
      "text/plain": [
       "'witty little book makes son laugh loud recite car driving along always sing refrain learned whales india drooping roses love new words book introduces silliness classic book willing bet son still able recite memory college every book educational'"
      ]
     },
     "execution_count": 19,
     "metadata": {},
     "output_type": "execute_result"
    }
   ],
   "source": [
    "preprocessed_reviews[0]"
   ]
  },
  {
   "cell_type": "code",
   "execution_count": 20,
   "metadata": {},
   "outputs": [
    {
     "name": "stdout",
     "output_type": "stream",
     "text": [
      "['X_train', 'CV', 'X_test']\n"
     ]
    }
   ],
   "source": [
    "X_1, X_test, y_t, y_test = train_test_split(preprocessed_reviews, y, test_size=0.5,shuffle=False,stratify=None)\n",
    "X_train, CV, y_train, y_CV = train_test_split(X_1, y_t, test_size=0.3,shuffle=False,stratify =None)\n",
    "\n",
    "Dataset=['X_train','CV','X_test']\n",
    "print(Dataset)"
   ]
  },
  {
   "cell_type": "code",
   "execution_count": 21,
   "metadata": {},
   "outputs": [
    {
     "name": "stdout",
     "output_type": "stream",
     "text": [
      "0    12483\n",
      "1     1658\n",
      "Name: Score, dtype: int64\n"
     ]
    }
   ],
   "source": [
    "#print(y_test.value_counts)\n",
    "\n",
    "print(y_test.Score.value_counts())"
   ]
  },
  {
   "cell_type": "code",
   "execution_count": 22,
   "metadata": {},
   "outputs": [],
   "source": [
    "def find_best_threshold(threshold, fpr, tpr):\n",
    "    t = threshold[np.argmax(tpr*(1-fpr))]\n",
    "    # (tpr*(1-fpr)) will be maximum if your fpr is very low and tpr is very high\n",
    "    print(\"the maximum value of tpr*(1-fpr)\", max(tpr*(1-fpr)), \"for threshold\", np.round(t,3))\n",
    "    return t\n",
    "\n",
    "def predict_with_best_t(proba, threshold):\n",
    "    predictions = []\n",
    "    for i in proba:\n",
    "        if i>=threshold:\n",
    "            predictions.append(1)\n",
    "        else:\n",
    "            predictions.append(0)\n",
    "    return predictions"
   ]
  },
  {
   "cell_type": "markdown",
   "metadata": {},
   "source": [
    "# [4] Featurization"
   ]
  },
  {
   "cell_type": "markdown",
   "metadata": {},
   "source": [
    "## [4.1] BAG OF WORDS"
   ]
  },
  {
   "cell_type": "code",
   "execution_count": 23,
   "metadata": {},
   "outputs": [
    {
     "name": "stdout",
     "output_type": "stream",
     "text": [
      "some feature names  ['able', 'absolutely', 'actually', 'add', 'added', 'ago', 'almost', 'along', 'also', 'alternative']\n",
      "==================================================\n",
      "the type of count vectorizer of Train data  <class 'scipy.sparse.csr.csr_matrix'>\n",
      "the shape of out text BOW vectorizer of Train data (9898, 500)\n",
      "the number of unique words 500\n",
      "====================================================================================================\n",
      "the type of count vectorizer of CV data <class 'scipy.sparse.csr.csr_matrix'>\n",
      "the shape of out text BOW vectorizer  of CV data (4242, 500)\n",
      "the number of unique words  500\n",
      "====================================================================================================\n",
      "the type of count vectorizer of Test Data <class 'scipy.sparse.csr.csr_matrix'>\n",
      "the shape of out text BOW vectorizer of Test data (14141, 500)\n",
      "the number of unique words  500\n"
     ]
    }
   ],
   "source": [
    "\n",
    "#BoW for Train data\n",
    "BOW_vec = CountVectorizer(min_df=10, max_features=500) #in scikit-learn\n",
    "BOW_vec.fit(X_train)\n",
    "print(\"some feature names \", BOW_vec.get_feature_names()[:10])\n",
    "print('='*50)\n",
    "\n",
    "X_train_BOW = BOW_vec.transform(X_train)\n",
    "print(\"the type of count vectorizer of Train data \",type(X_train_BOW))\n",
    "print(\"the shape of out text BOW vectorizer of Train data\",X_train_BOW.get_shape())\n",
    "print(\"the number of unique words\", X_train_BOW.get_shape()[1])\n",
    "print('='*100)\n",
    "\n",
    "X_CV_BOW=BOW_vec.transform(CV)\n",
    "print(\"the type of count vectorizer of CV data\",type(X_CV_BOW))\n",
    "print(\"the shape of out text BOW vectorizer  of CV data\",X_CV_BOW.get_shape())\n",
    "print(\"the number of unique words \", X_CV_BOW.get_shape()[1])\n",
    "\n",
    "print('='*100)\n",
    "#BoW for Test Data\n",
    "\n",
    "X_test_BOW = BOW_vec.transform(X_test)\n",
    "\n",
    "print(\"the type of count vectorizer of Test Data\",type(X_test_BOW))\n",
    "print(\"the shape of out text BOW vectorizer of Test data\",X_test_BOW.get_shape())\n",
    "print(\"the number of unique words \", X_test_BOW.get_shape()[1])\n"
   ]
  },
  {
   "cell_type": "markdown",
   "metadata": {},
   "source": [
    "## [5.1] Linear SVM"
   ]
  },
  {
   "cell_type": "markdown",
   "metadata": {},
   "source": [
    "### [5.1.1] Applying Linear SVM on BOW,<font color='red'> SET 1</font>"
   ]
  },
  {
   "cell_type": "code",
   "execution_count": 24,
   "metadata": {},
   "outputs": [],
   "source": [
    "\n",
    "max1=0\n",
    "AUC_Train_l1=[]\n",
    "AUC_Train_l2=[]\n",
    "AUC_CV_l1=[]\n",
    "AUC_CV_l2=[]\n",
    "alpha = [10**x for x in range(-4,5)]\n",
    "#print(alpha)\n",
    "#alpha = [10**-4]\n",
    "penalty_lst=['l1','l2']\n",
    "#penalty_lin_opt=None\n",
    "for pnlty in penalty_lst:\n",
    "    for c in alpha: \n",
    "        #print(pnlty)\n",
    "        model_BOW=SGDClassifier(loss='hinge',learning_rate='constant',class_weight ='balanced',alpha=c,penalty=pnlty,eta0=0.1,max_iter=1000)\n",
    "        model_BOW=model_BOW.fit(X_train_BOW,y_train)         \n",
    "        #y_CV_pred_proba = model_BOW.predict_proba(CV_BOW)[:,1]      \n",
    "        cal_clf_BOW_cv=CalibratedClassifierCV(model_BOW,cv='prefit')\n",
    "        cal_clf_BOW_cv.fit(X_train_BOW,y_train)\n",
    "        y_CV_pred_proba=cal_clf_BOW_cv.predict_proba(X_CV_BOW) [:,1] \n",
    "        y_Train_pred_proba = cal_clf_BOW_cv.predict_proba(X_train_BOW)[:,1] \n",
    "        #print(y_CV_pred_proba)\n",
    "        #print(y_CV)\n",
    "        if pnlty == 'l1':\n",
    "            AUC_CV_l1.append(roc_auc_score(y_CV,y_CV_pred_proba))\n",
    "            AUC_Train_l1.append(roc_auc_score(y_train,y_Train_pred_proba))\n",
    "        else:\n",
    "            AUC_CV_l2.append(roc_auc_score(y_CV,y_CV_pred_proba))\n",
    "            AUC_Train_l2.append(roc_auc_score(y_train,y_Train_pred_proba))\n",
    "        temp=roc_auc_score(y_CV,y_CV_pred_proba)\n",
    "        \n",
    "        if max1 < temp:\n",
    "            max1=temp        \n",
    "            c_opt=c\n",
    "            penalty_lin_BOW=pnlty\n",
    "       "
   ]
  },
  {
   "cell_type": "code",
   "execution_count": 25,
   "metadata": {},
   "outputs": [
    {
     "name": "stdout",
     "output_type": "stream",
     "text": [
      "AUC is max when alpha is 0.0001, penalty is l2 with AUC = 0.8542559248844823\n"
     ]
    },
    {
     "data": {
      "image/png": "[encoded data removed]",
      "text/plain": [
       "<Figure size 432x288 with 1 Axes>"
      ]
     },
     "metadata": {
      "needs_background": "light"
     },
     "output_type": "display_data"
    }
   ],
   "source": [
    "#Generate plot\n",
    "#print(penalty_lin_BOW)\n",
    "print(\"AUC is max when alpha is {}, penalty is {} with AUC = {}\".format(c_opt,penalty_lin_BOW,max1))\n",
    "c_BOW_lin=c_opt\n",
    "AUC_CV=[]\n",
    "AUC_train=[]\n",
    "if penalty_lin_BOW == 'l1':\n",
    "    AUC_CV=AUC_CV_l1   \n",
    "    AUC_Train=AUC_Train_l1\n",
    "else:\n",
    "    AUC_CV=AUC_CV_l2\n",
    "    AUC_Train=AUC_Train_l2\n",
    "plt.plot(np.log10(alpha),AUC_CV, label='SVM CV AUC')\n",
    "plt.plot(np.log10(alpha),AUC_Train,label='SVM Train AUC)')\n",
    "plt.xlabel('alpha')\n",
    "plt.ylabel('AUC')\n",
    "plt.legend()\n",
    "plt.title('SVM AUC curve')\n",
    "plt.show()"
   ]
  },
  {
   "cell_type": "code",
   "execution_count": 26,
   "metadata": {},
   "outputs": [
    {
     "name": "stdout",
     "output_type": "stream",
     "text": [
      "              precision    recall  f1-score   support\n",
      "\n",
      "           0       0.98      0.16      0.27     12483\n",
      "           1       0.13      0.98      0.24      1658\n",
      "\n",
      "    accuracy                           0.25     14141\n",
      "   macro avg       0.56      0.57      0.25     14141\n",
      "weighted avg       0.89      0.25      0.27     14141\n",
      "\n",
      "Test data AUC of SVM with BOW Implentation  :  0.8525050280685713\n",
      "Train data AUC of SVM with BOW Implentation  :  0.911362778406946\n"
     ]
    },
    {
     "data": {
      "image/png": "[encoded data removed]",
      "text/plain": [
       "<Figure size 432x288 with 1 Axes>"
      ]
     },
     "metadata": {
      "needs_background": "light"
     },
     "output_type": "display_data"
    },
    {
     "name": "stdout",
     "output_type": "stream",
     "text": [
      "the maximum value of tpr*(1-fpr) 0.7149719419242369 for threshold 0.894\n",
      "Train confusion matrix\n",
      "[[ 930  138]\n",
      " [1580 7250]]\n"
     ]
    },
    {
     "data": {
      "image/png": "[encoded data removed]",
      "text/plain": [
       "<Figure size 432x288 with 2 Axes>"
      ]
     },
     "metadata": {
      "needs_background": "light"
     },
     "output_type": "display_data"
    },
    {
     "name": "stdout",
     "output_type": "stream",
     "text": [
      "the maximum value of tpr*(1-fpr) 0.6236737693057491 for threshold 0.911\n",
      "Test confusion matrix\n",
      "[[10204  2279]\n",
      " [  393  1265]]\n"
     ]
    },
    {
     "data": {
      "image/png": "[encoded data removed]",
      "text/plain": [
       "<Figure size 432x288 with 2 Axes>"
      ]
     },
     "metadata": {
      "needs_background": "light"
     },
     "output_type": "display_data"
    },
    {
     "name": "stdout",
     "output_type": "stream",
     "text": [
      "Accuracy of SVM when alpha=0.0001, with penalty = l2 is 0.25323527331871865\n"
     ]
    }
   ],
   "source": [
    "\n",
    "SGD_BOW =SGDClassifier(loss='hinge',learning_rate='constant',class_weight='balanced',alpha=c_BOW_lin,penalty=penalty_lin_BOW,eta0=0.1,max_iter=1000)\n",
    "SGD_BOW_lin=SGD_BOW.fit(X_train_BOW,y_train)\n",
    "\n",
    "cal_clf_BOW_lin=CalibratedClassifierCV(SGD_BOW_lin,cv='prefit')\n",
    "cal_clf_BOW_lin.fit(X_CV_BOW,y_CV)\n",
    "\n",
    "y_pred=cal_clf_BOW_lin.predict(X_test_BOW)\n",
    "print(classification_report(y_test,y_pred))\n",
    "\n",
    "#predict probabilities\n",
    "y_Test_pred_proba = cal_clf_BOW_lin.predict_proba(X_test_BOW)[:,1]\n",
    "y_Train_pred_proba = cal_clf_BOW_lin.predict_proba(X_train_BOW)[:,1]\n",
    "\n",
    "#code for AUC\n",
    "fpr_Test, tpr_Test, thresholds_Test = roc_curve(y_test, y_Test_pred_proba)\n",
    "fpr_Train, tpr_Train, thresholds_train = roc_curve(y_train, y_Train_pred_proba)\n",
    "print(\"Test data AUC of SVM with BOW Implentation  : \",roc_auc_score(y_test,y_Test_pred_proba))\n",
    "AUC_BOW_lin=roc_auc_score(y_test,y_Test_pred_proba)\n",
    "print(\"Train data AUC of SVM with BOW Implentation  : \",roc_auc_score(y_train,y_Train_pred_proba))\n",
    "\n",
    "\n",
    "#generate plot\n",
    "plt.plot(fpr_Test,tpr_Test, label='SVM Test ROC')\n",
    "plt.plot(fpr_Train,tpr_Train, label='SVM Train ROC')\n",
    "plt.xlabel('fpr')\n",
    "plt.ylabel('tpr')\n",
    "plt.legend()\n",
    "plt.title('SVM ROC curve')\n",
    "plt.show()\n",
    "\n",
    "\n",
    "#confusion matrix of train data\n",
    "best_t = find_best_threshold(thresholds_train, fpr_Train, tpr_Train)\n",
    "print(\"Train confusion matrix\")\n",
    "conf_matrix=confusion_matrix(y_train, predict_with_best_t(y_Train_pred_proba, best_t))\n",
    "print(confusion_matrix(y_train, predict_with_best_t(y_Train_pred_proba, best_t)))\n",
    "\n",
    "class_label = ['negative', 'positive']\n",
    "df_conf_matrix = pd.DataFrame(\n",
    "    conf_matrix, index=class_label, columns=class_label)\n",
    "sns.heatmap(df_conf_matrix, annot=True, fmt='d')\n",
    "plt.title(\"Confusion Matrix\")\n",
    "plt.xlabel(\"Predicted\")\n",
    "plt.ylabel(\"Actual\")\n",
    "plt.show()\n",
    "\n",
    "#confusion matrix of test data\n",
    "best_t = find_best_threshold(thresholds_Test, fpr_Test, tpr_Test)\n",
    "print(\"Test confusion matrix\")\n",
    "conf_matrix=confusion_matrix(y_test, predict_with_best_t(y_Test_pred_proba, best_t))\n",
    "print(confusion_matrix(y_test, predict_with_best_t(y_Test_pred_proba, best_t)))\n",
    "class_label = ['negative', 'positive']\n",
    "df_conf_matrix = pd.DataFrame(\n",
    "    conf_matrix, index=class_label, columns=class_label)\n",
    "sns.heatmap(df_conf_matrix, annot=True, fmt='d')\n",
    "plt.title(\"Confusion Matrix\")\n",
    "plt.xlabel(\"Predicted\")\n",
    "plt.ylabel(\"Actual\")\n",
    "plt.show()\n",
    "\n",
    "Accuracy_BOW_lin=cal_clf_BOW_lin.score(X_test_BOW, y_test)\n",
    "print('Accuracy of SVM when alpha={}, with penalty = {} is {}'.format(c_BOW_lin,penalty_lin_BOW,Accuracy_BOW_lin))"
   ]
  },
  {
   "cell_type": "markdown",
   "metadata": {},
   "source": [
    "<h4>Top 10 Negative features for Linear SVM</h4>"
   ]
  },
  {
   "cell_type": "code",
   "execution_count": 27,
   "metadata": {},
   "outputs": [
    {
     "name": "stdout",
     "output_type": "stream",
     "text": [
      "['thought' 'instead' 'life' 'money' 'dry' 'pieces' 'not' 'artificial'\n",
      " 'leaves' 'version']\n"
     ]
    }
   ],
   "source": [
    "Weight_index=SGD_BOW_lin.coef_[0].argsort()\n",
    "#print(SGD_BOW_lin.coef_[0])\n",
    "#print(Weight_index)\n",
    "#print(SGD_BOW_lin.coef_[0][Weight_index])\n",
    "print(np.take(BOW_vec.get_feature_names(),Weight_index[0:10]))"
   ]
  },
  {
   "cell_type": "markdown",
   "metadata": {},
   "source": [
    "<h4>Top 10 positive features for Linear SVM</h4>"
   ]
  },
  {
   "cell_type": "code",
   "execution_count": 28,
   "metadata": {},
   "outputs": [
    {
     "name": "stdout",
     "output_type": "stream",
     "text": [
      "['highly' 'salad' 'cold' 'clean' 'amazing' 'delicious' 'best' 'variety'\n",
      " 'yummy' 'loves']\n"
     ]
    }
   ],
   "source": [
    "Weight_index=SGD_BOW_lin.coef_[0].argsort()\n",
    "weight_index_len=len(SGD_BOW_lin.coef_[0])\n",
    "print(np.take(BOW_vec.get_feature_names(),Weight_index[weight_index_len-10:]))"
   ]
  },
  {
   "cell_type": "markdown",
   "metadata": {},
   "source": [
    "###  Applying RBF SVM on BOW,<font color='red'> SET 1</font>"
   ]
  },
  {
   "cell_type": "code",
   "execution_count": 29,
   "metadata": {},
   "outputs": [
    {
     "name": "stderr",
     "output_type": "stream",
     "text": [
      "100%|███████████████████████████████████████████████████████████████████████████████████| 9/9 [18:16<00:00, 121.88s/it]\n"
     ]
    }
   ],
   "source": [
    "\n",
    "max1=0\n",
    "AUC_Train=[]\n",
    "AUC_CV=[]\n",
    "#alpha = [10**x for x in range(-4,5)]\n",
    "#alpha = [10**-4]\n",
    "for c in tqdm(alpha):        \n",
    "    model=SVC(C=c, kernel='rbf', probability=True, cache_size=200, class_weight='balanced', decision_function_shape='ovo')\n",
    "    model_BOW=model.fit(X_train_BOW,y_train)         \n",
    "    y_CV_pred_proba = model_BOW.predict_proba(X_CV_BOW)[:,1]      \n",
    "    #cal_clf_BOW_cv=CalibratedClassifierCV(model_BOW,cv='prefit')\n",
    "    #cal_clf_BOW_cv.fit(X_train_BOW,y_train)\n",
    "    y_CV_pred_proba=model_BOW.predict_proba(X_CV_BOW) [:,1] \n",
    "    y_Train_pred_proba = model_BOW.predict_proba(X_train_BOW)[:,1] \n",
    "    #print(y_CV_pred_proba)\n",
    "    #print(y_CV)\n",
    "    temp=roc_auc_score(y_CV,y_CV_pred_proba)\n",
    "    AUC_CV.append(roc_auc_score(y_CV,y_CV_pred_proba))\n",
    "    if max1 < temp:\n",
    "        max1=temp        \n",
    "        c_opt=c\n",
    "    AUC_Train.append(roc_auc_score(y_train,y_Train_pred_proba))"
   ]
  },
  {
   "cell_type": "code",
   "execution_count": 30,
   "metadata": {},
   "outputs": [
    {
     "name": "stdout",
     "output_type": "stream",
     "text": [
      "AUC is max when alpha is 1 with AUC = 0.8936095065642324\n"
     ]
    },
    {
     "data": {
      "image/png": "[encoded data removed]",
      "text/plain": [
       "<Figure size 432x288 with 1 Axes>"
      ]
     },
     "metadata": {
      "needs_background": "light"
     },
     "output_type": "display_data"
    }
   ],
   "source": [
    "#Generate plot\n",
    "print(\"AUC is max when alpha is {} with AUC = {}\".format(c_opt,max1))\n",
    "c_BOW_rbf=c_opt\n",
    "plt.plot(np.log10(alpha),AUC_CV, label='SVM CV AUC')\n",
    "plt.plot(np.log10(alpha),AUC_Train,label='SVM Train AUC)')\n",
    "plt.xlabel('alpha')\n",
    "plt.ylabel('AUC')\n",
    "plt.legend()\n",
    "plt.title('Logistic AUC curve')\n",
    "plt.show()"
   ]
  },
  {
   "cell_type": "code",
   "execution_count": 31,
   "metadata": {},
   "outputs": [
    {
     "name": "stdout",
     "output_type": "stream",
     "text": [
      "              precision    recall  f1-score   support\n",
      "\n",
      "           0       0.97      0.82      0.89     12483\n",
      "           1       0.37      0.78      0.50      1658\n",
      "\n",
      "    accuracy                           0.82     14141\n",
      "   macro avg       0.67      0.80      0.70     14141\n",
      "weighted avg       0.90      0.82      0.84     14141\n",
      "\n",
      "Test data AUC of SVM with BOW Implentation  :  0.8785359910950544\n",
      "Train data AUC of SVM with BOW Implentation  :  0.9314028295604447\n"
     ]
    },
    {
     "data": {
      "image/png": "[encoded data removed]",
      "text/plain": [
       "<Figure size 432x288 with 1 Axes>"
      ]
     },
     "metadata": {
      "needs_background": "light"
     },
     "output_type": "display_data"
    },
    {
     "name": "stdout",
     "output_type": "stream",
     "text": [
      "the maximum value of tpr*(1-fpr) 0.7535173332315354 for threshold 0.867\n",
      "Train confusion matrix\n",
      "[[ 950  118]\n",
      " [1350 7480]]\n"
     ]
    },
    {
     "data": {
      "image/png": "[encoded data removed]",
      "text/plain": [
       "<Figure size 432x288 with 2 Axes>"
      ]
     },
     "metadata": {
      "needs_background": "light"
     },
     "output_type": "display_data"
    },
    {
     "name": "stdout",
     "output_type": "stream",
     "text": [
      "the maximum value of tpr*(1-fpr) 0.6456901047668496 for threshold 0.889\n",
      "Test confusion matrix\n",
      "[[10264  2219]\n",
      " [  356  1302]]\n"
     ]
    },
    {
     "data": {
      "image/png": "[encoded data removed]",
      "text/plain": [
       "<Figure size 432x288 with 2 Axes>"
      ]
     },
     "metadata": {
      "needs_background": "light"
     },
     "output_type": "display_data"
    },
    {
     "name": "stdout",
     "output_type": "stream",
     "text": [
      "Accuracy of SVM when alpha=1 is 0.8198147231454636\n"
     ]
    }
   ],
   "source": [
    "\n",
    "SVC_BOW =SVC(C=c_BOW_rbf, kernel='rbf', probability=True, cache_size=200, class_weight='balanced', decision_function_shape='ovo')\n",
    "SVC_BOW_rbf=SVC_BOW.fit(X_train_BOW,y_train)\n",
    "\n",
    "#cal_clf_BOW_lin=CalibratedClassifierCV(SVC_BOW_rbf,cv='prefit')\n",
    "#cal_clf_BOW_lin.fit(X_CV_BOW,y_CV)\n",
    "\n",
    "y_pred=SVC_BOW_rbf.predict(X_test_BOW)\n",
    "print(classification_report(y_test,y_pred))\n",
    "\n",
    "#predict probabilities\n",
    "y_Test_pred_proba = SVC_BOW_rbf.predict_proba(X_test_BOW)[:,1]\n",
    "y_Train_pred_proba = SVC_BOW_rbf.predict_proba(X_train_BOW)[:,1]\n",
    "\n",
    "#code for AUC\n",
    "fpr_Test, tpr_Test, thresholds_Test = roc_curve(y_test, y_Test_pred_proba)\n",
    "fpr_Train, tpr_Train, thresholds_train = roc_curve(y_train, y_Train_pred_proba)\n",
    "print(\"Test data AUC of SVM with BOW Implentation  : \",roc_auc_score(y_test,y_Test_pred_proba))\n",
    "AUC_BOW_rbf=roc_auc_score(y_test,y_Test_pred_proba)\n",
    "print(\"Train data AUC of SVM with BOW Implentation  : \",roc_auc_score(y_train,y_Train_pred_proba))\n",
    "\n",
    "\n",
    "#generate plot\n",
    "plt.plot(fpr_Test,tpr_Test, label='SVM Test ROC')\n",
    "plt.plot(fpr_Train,tpr_Train, label='SVM Train ROC')\n",
    "plt.xlabel('fpr')\n",
    "plt.ylabel('tpr')\n",
    "plt.legend()\n",
    "plt.title('SVM ROC curve')\n",
    "plt.show()\n",
    "\n",
    "\n",
    "#confusion matrix of train data\n",
    "best_t = find_best_threshold(thresholds_train, fpr_Train, tpr_Train)\n",
    "print(\"Train confusion matrix\")\n",
    "conf_matrix=confusion_matrix(y_train, predict_with_best_t(y_Train_pred_proba, best_t))\n",
    "print(confusion_matrix(y_train, predict_with_best_t(y_Train_pred_proba, best_t)))\n",
    "\n",
    "class_label = ['negative', 'positive']\n",
    "df_conf_matrix = pd.DataFrame(\n",
    "    conf_matrix, index=class_label, columns=class_label)\n",
    "sns.heatmap(df_conf_matrix, annot=True, fmt='d')\n",
    "plt.title(\"Confusion Matrix\")\n",
    "plt.xlabel(\"Predicted\")\n",
    "plt.ylabel(\"Actual\")\n",
    "plt.show()\n",
    "\n",
    "#confusion matrix of test data\n",
    "best_t = find_best_threshold(thresholds_Test, fpr_Test, tpr_Test)\n",
    "print(\"Test confusion matrix\")\n",
    "conf_matrix=confusion_matrix(y_test, predict_with_best_t(y_Test_pred_proba, best_t))\n",
    "print(confusion_matrix(y_test, predict_with_best_t(y_Test_pred_proba, best_t)))\n",
    "class_label = ['negative', 'positive']\n",
    "df_conf_matrix = pd.DataFrame(\n",
    "    conf_matrix, index=class_label, columns=class_label)\n",
    "sns.heatmap(df_conf_matrix, annot=True, fmt='d')\n",
    "plt.title(\"Confusion Matrix\")\n",
    "plt.xlabel(\"Predicted\")\n",
    "plt.ylabel(\"Actual\")\n",
    "plt.show()\n",
    "\n",
    "Accuracy_BOW_rbf=SVC_BOW_rbf.score(X_test_BOW, y_test)\n",
    "print('Accuracy of SVM when alpha={} is {}'.format(c_BOW_rbf,Accuracy_BOW_rbf))"
   ]
  },
  {
   "cell_type": "markdown",
   "metadata": {},
   "source": [
    "###  Applying Linear SVM on TFIDF,<font color='red'> SET 2</font>"
   ]
  },
  {
   "cell_type": "code",
   "execution_count": 32,
   "metadata": {},
   "outputs": [
    {
     "name": "stdout",
     "output_type": "stream",
     "text": [
      "some sample features(unique words in the corpus) ['able', 'absolutely', 'actually', 'add', 'added', 'ago', 'almost', 'along', 'also', 'alternative']\n",
      "==================================================\n",
      "the type of count vectorizer  <class 'scipy.sparse.csr.csr_matrix'>\n",
      "the shape of out text TFIDF vectorizer  (9898, 500)\n",
      "the number of unique words including both unigrams and bigrams  500\n",
      "====================================================================================================\n",
      "the type of count vectorizer  <class 'scipy.sparse.csr.csr_matrix'>\n",
      "the shape of out text TFIDF vectorizer  (4242, 500)\n",
      "the number of unique words including both unigrams and bigrams  500\n",
      "====================================================================================================\n",
      "the type of count vectorizer  <class 'scipy.sparse.csr.csr_matrix'>\n",
      "the shape of out text TFIDF vectorizer  (14141, 500)\n",
      "the number of unique words including both unigrams and bigrams  500\n"
     ]
    }
   ],
   "source": [
    "\n",
    "tf_idf_vect= TfidfVectorizer(ngram_range=(1,2),min_df=10, max_features=500)\n",
    "tf_idf_vect.fit(X_train)\n",
    "print(\"some sample features(unique words in the corpus)\",tf_idf_vect.get_feature_names()[0:10])\n",
    "print('='*50)\n",
    "\n",
    "X_train_tf_idf = tf_idf_vect.transform(X_train)\n",
    "print(\"the type of count vectorizer \",type(X_train_tf_idf))\n",
    "print(\"the shape of out text TFIDF vectorizer \",X_train_tf_idf.get_shape())\n",
    "print(\"the number of unique words including both unigrams and bigrams \", X_train_tf_idf.get_shape()[1])\n",
    "print('='*100)\n",
    "CV_tf_idf = tf_idf_vect.transform(CV)\n",
    "print(\"the type of count vectorizer \",type(CV_tf_idf))\n",
    "print(\"the shape of out text TFIDF vectorizer \",CV_tf_idf.get_shape())\n",
    "print(\"the number of unique words including both unigrams and bigrams \", CV_tf_idf.get_shape()[1])\n",
    "print('='*100)\n",
    "\n",
    "X_test_tf_idf = tf_idf_vect.transform(X_test)\n",
    "print(\"the type of count vectorizer \",type(X_test_tf_idf))\n",
    "print(\"the shape of out text TFIDF vectorizer \",X_test_tf_idf.get_shape())\n",
    "print(\"the number of unique words including both unigrams and bigrams \", X_test_tf_idf.get_shape()[1])"
   ]
  },
  {
   "cell_type": "code",
   "execution_count": 33,
   "metadata": {},
   "outputs": [],
   "source": [
    "from sklearn.preprocessing import StandardScaler\n",
    "\n",
    "\n",
    "SS=StandardScaler(with_mean=False).fit(X_train_tf_idf)\n",
    "X_train_tf_idf=SS.transform(X_train_tf_idf)\n",
    "X_CV_tf_idf= SS.transform(CV_tf_idf)\n",
    "X_test_tf_idf=StandardScaler(with_mean=False).fit_transform(X_test_tf_idf)"
   ]
  },
  {
   "cell_type": "code",
   "execution_count": 34,
   "metadata": {},
   "outputs": [],
   "source": [
    "\n",
    "max1=0\n",
    "AUC_Train_l1=[]\n",
    "AUC_Train_l2=[]\n",
    "AUC_CV_l1=[]\n",
    "AUC_CV_l2=[]\n",
    "#alpha = [10**x for x in range(-4,5)]\n",
    "#print(alpha)\n",
    "#alpha = [10**-4]\n",
    "penalty_lst=['l1','l2']\n",
    "#penalty_lin_opt=None\n",
    "for pnlty in penalty_lst:\n",
    "    for c in alpha: \n",
    "        #print(pnlty)\n",
    "        model=SGDClassifier(loss='hinge',learning_rate='constant',class_weight='balanced',alpha=c,penalty=pnlty,eta0=0.1,max_iter=1000)\n",
    "        model_tf_idf=model.fit(X_train_tf_idf,y_train)         \n",
    "            \n",
    "        cal_clf_tf_idf_cv=CalibratedClassifierCV(model_tf_idf,cv='prefit')\n",
    "        cal_clf_tf_idf_cv.fit(X_train_tf_idf,y_train)\n",
    "        y_CV_pred_proba=cal_clf_tf_idf_cv.predict_proba(X_CV_tf_idf) [:,1] \n",
    "        y_Train_pred_proba = cal_clf_tf_idf_cv.predict_proba(X_train_tf_idf)[:,1] \n",
    "        #print(y_CV_pred_proba)\n",
    "        #print(y_CV)\n",
    "        if pnlty == 'l1':\n",
    "            AUC_CV_l1.append(roc_auc_score(y_CV,y_CV_pred_proba))\n",
    "            AUC_Train_l1.append(roc_auc_score(y_train,y_Train_pred_proba))\n",
    "        else:\n",
    "            AUC_CV_l2.append(roc_auc_score(y_CV,y_CV_pred_proba))\n",
    "            AUC_Train_l2.append(roc_auc_score(y_train,y_Train_pred_proba))\n",
    "        temp=roc_auc_score(y_CV,y_CV_pred_proba)\n",
    "        \n",
    "        if max1 < temp:\n",
    "            max1=temp        \n",
    "            c_opt=c\n",
    "            penalty_lin_tf_idf=pnlty\n",
    "       "
   ]
  },
  {
   "cell_type": "code",
   "execution_count": 35,
   "metadata": {},
   "outputs": [
    {
     "name": "stdout",
     "output_type": "stream",
     "text": [
      "l2\n",
      "AUC is max when alpha is 0.0001, penalty is l2 with AUC = 0.8632382854371491\n"
     ]
    },
    {
     "data": {
      "image/png": "[encoded data removed]",
      "text/plain": [
       "<Figure size 432x288 with 1 Axes>"
      ]
     },
     "metadata": {
      "needs_background": "light"
     },
     "output_type": "display_data"
    }
   ],
   "source": [
    "#Generate plot\n",
    "print(penalty_lin_tf_idf)\n",
    "print(\"AUC is max when alpha is {}, penalty is {} with AUC = {}\".format(c_opt,penalty_lin_tf_idf,max1))\n",
    "c_tf_idf_lin=c_opt\n",
    "AUC_CV=[]\n",
    "AUC_Train=[]\n",
    "if penalty_lin_tf_idf == 'l1':\n",
    "    AUC_CV=AUC_CV_l1   \n",
    "    AUC_Train=AUC_Train_l1\n",
    "else:\n",
    "    AUC_CV=AUC_CV_l2\n",
    "    AUC_Train=AUC_Train_l2\n",
    "plt.plot(np.log10(alpha),AUC_CV, label='SVM CV AUC')\n",
    "plt.plot(np.log10(alpha),AUC_Train,label='SVM Train AUC)')\n",
    "plt.xlabel('alpha')\n",
    "plt.ylabel('AUC')\n",
    "plt.legend()\n",
    "plt.title('SVM AUC curve')\n",
    "plt.show()"
   ]
  },
  {
   "cell_type": "code",
   "execution_count": 36,
   "metadata": {},
   "outputs": [
    {
     "name": "stdout",
     "output_type": "stream",
     "text": [
      "              precision    recall  f1-score   support\n",
      "\n",
      "           0       0.99      0.05      0.10     12483\n",
      "           1       0.12      1.00      0.22      1658\n",
      "\n",
      "    accuracy                           0.16     14141\n",
      "   macro avg       0.56      0.52      0.16     14141\n",
      "weighted avg       0.89      0.16      0.11     14141\n",
      "\n",
      "Test data AUC of SVM with tf_idf Implentation  :  0.8491470233051329\n",
      "Train data AUC of SVM with tf_idf Implentation  :  0.9004175839091284\n"
     ]
    },
    {
     "data": {
      "image/png": "[encoded data removed]",
      "text/plain": [
       "<Figure size 432x288 with 1 Axes>"
      ]
     },
     "metadata": {
      "needs_background": "light"
     },
     "output_type": "display_data"
    },
    {
     "name": "stdout",
     "output_type": "stream",
     "text": [
      "the maximum value of tpr*(1-fpr) 0.6772424192296436 for threshold 0.905\n",
      "Train confusion matrix\n",
      "[[ 922  146]\n",
      " [1903 6927]]\n"
     ]
    },
    {
     "data": {
      "image/png": "[encoded data removed]",
      "text/plain": [
       "<Figure size 432x288 with 2 Axes>"
      ]
     },
     "metadata": {
      "needs_background": "light"
     },
     "output_type": "display_data"
    },
    {
     "name": "stdout",
     "output_type": "stream",
     "text": [
      "the maximum value of tpr*(1-fpr) 0.5979021698702032 for threshold 0.959\n",
      "Test confusion matrix\n",
      "[[10227  2256]\n",
      " [  448  1210]]\n"
     ]
    },
    {
     "data": {
      "image/png": "[encoded data removed]",
      "text/plain": [
       "<Figure size 432x288 with 2 Axes>"
      ]
     },
     "metadata": {
      "needs_background": "light"
     },
     "output_type": "display_data"
    },
    {
     "name": "stdout",
     "output_type": "stream",
     "text": [
      "Accuracy of SVM when alpha=0.0001 is 0.16158687504419772\n"
     ]
    }
   ],
   "source": [
    "\n",
    "SGD_tf_idf =SGDClassifier(loss='hinge',learning_rate='constant',class_weight='balanced',alpha=c_tf_idf_lin,penalty=penalty_lin_tf_idf,eta0=0.1,max_iter=1000)\n",
    "SGD_tf_idf_lin=SGD_tf_idf.fit(X_train_tf_idf,y_train)\n",
    "\n",
    "cal_clf_tf_idf_lin=CalibratedClassifierCV(SGD_tf_idf_lin,cv='prefit')\n",
    "cal_clf_tf_idf_lin.fit(X_CV_tf_idf,y_CV)\n",
    "\n",
    "y_pred=cal_clf_tf_idf_lin.predict(X_test_tf_idf)\n",
    "print(classification_report(y_test,y_pred))\n",
    "\n",
    "#predict probabilities\n",
    "y_Test_pred_proba = cal_clf_tf_idf_lin.predict_proba(X_test_tf_idf)[:,1]\n",
    "y_Train_pred_proba = cal_clf_tf_idf_lin.predict_proba(X_train_tf_idf)[:,1]\n",
    "\n",
    "#code for AUC\n",
    "fpr_Test, tpr_Test, thresholds_Test = roc_curve(y_test, y_Test_pred_proba)\n",
    "fpr_Train, tpr_Train, thresholds_train = roc_curve(y_train, y_Train_pred_proba)\n",
    "print(\"Test data AUC of SVM with tf_idf Implentation  : \",roc_auc_score(y_test,y_Test_pred_proba))\n",
    "AUC_tf_idf_lin=roc_auc_score(y_test,y_Test_pred_proba)\n",
    "print(\"Train data AUC of SVM with tf_idf Implentation  : \",roc_auc_score(y_train,y_Train_pred_proba))\n",
    "\n",
    "\n",
    "#generate plot\n",
    "plt.plot(fpr_Test,tpr_Test, label='SVM Test ROC')\n",
    "plt.plot(fpr_Train,tpr_Train, label='SVM Train ROC')\n",
    "plt.xlabel('fpr')\n",
    "plt.ylabel('tpr')\n",
    "plt.legend()\n",
    "plt.title('SVM ROC curve')\n",
    "plt.show()\n",
    "\n",
    "\n",
    "#confusion matrix of train data\n",
    "best_t = find_best_threshold(thresholds_train, fpr_Train, tpr_Train)\n",
    "print(\"Train confusion matrix\")\n",
    "conf_matrix=confusion_matrix(y_train, predict_with_best_t(y_Train_pred_proba, best_t))\n",
    "print(confusion_matrix(y_train, predict_with_best_t(y_Train_pred_proba, best_t)))\n",
    "\n",
    "class_label = ['negative', 'positive']\n",
    "df_conf_matrix = pd.DataFrame(\n",
    "    conf_matrix, index=class_label, columns=class_label)\n",
    "sns.heatmap(df_conf_matrix, annot=True, fmt='d')\n",
    "plt.title(\"Confusion Matrix\")\n",
    "plt.xlabel(\"Predicted\")\n",
    "plt.ylabel(\"Actual\")\n",
    "plt.show()\n",
    "\n",
    "#confusion matrix of test data\n",
    "best_t = find_best_threshold(thresholds_Test, fpr_Test, tpr_Test)\n",
    "print(\"Test confusion matrix\")\n",
    "conf_matrix=confusion_matrix(y_test, predict_with_best_t(y_Test_pred_proba, best_t))\n",
    "print(confusion_matrix(y_test, predict_with_best_t(y_Test_pred_proba, best_t)))\n",
    "class_label = ['negative', 'positive']\n",
    "df_conf_matrix = pd.DataFrame(\n",
    "    conf_matrix, index=class_label, columns=class_label)\n",
    "sns.heatmap(df_conf_matrix, annot=True, fmt='d')\n",
    "plt.title(\"Confusion Matrix\")\n",
    "plt.xlabel(\"Predicted\")\n",
    "plt.ylabel(\"Actual\")\n",
    "plt.show()\n",
    "\n",
    "Accuracy_tf_idf_lin=cal_clf_tf_idf_lin.score(X_test_tf_idf, y_test)\n",
    "print('Accuracy of SVM when alpha={} is {}'.format(c_tf_idf_lin,Accuracy_tf_idf_lin))"
   ]
  },
  {
   "cell_type": "markdown",
   "metadata": {},
   "source": [
    "<h4>Top 10 Negative features</h4>"
   ]
  },
  {
   "cell_type": "code",
   "execution_count": 37,
   "metadata": {},
   "outputs": [
    {
     "name": "stdout",
     "output_type": "stream",
     "text": [
      "['thought' 'instead' 'life' 'money' 'dry' 'pieces' 'not' 'artificial'\n",
      " 'leaves' 'version']\n"
     ]
    }
   ],
   "source": [
    "Weight_index=SGD_BOW_lin.coef_[0].argsort()\n",
    "#print(SGD_BOW_lin.coef_[0])\n",
    "#print(Weight_index)\n",
    "#print(SGD_BOW_lin.coef_[0][Weight_index])\n",
    "print(np.take(BOW_vec.get_feature_names(),Weight_index[0:10]))"
   ]
  },
  {
   "cell_type": "markdown",
   "metadata": {},
   "source": [
    "<h4>Top 10 Positive features</h4>"
   ]
  },
  {
   "cell_type": "code",
   "execution_count": 38,
   "metadata": {},
   "outputs": [
    {
     "name": "stdout",
     "output_type": "stream",
     "text": [
      "['highly' 'salad' 'cold' 'clean' 'amazing' 'delicious' 'best' 'variety'\n",
      " 'yummy' 'loves']\n"
     ]
    }
   ],
   "source": [
    "Weight_index=SGD_BOW_lin.coef_[0].argsort()\n",
    "weight_index_len=len(SGD_BOW_lin.coef_[0])\n",
    "print(np.take(BOW_vec.get_feature_names(),Weight_index[weight_index_len-10:]))"
   ]
  },
  {
   "cell_type": "markdown",
   "metadata": {},
   "source": [
    "###  Applying RBF SVM on TFIDF,<font color='red'> SET 2</font>"
   ]
  },
  {
   "cell_type": "code",
   "execution_count": 39,
   "metadata": {},
   "outputs": [
    {
     "name": "stderr",
     "output_type": "stream",
     "text": [
      "100%|███████████████████████████████████████████████████████████████████████████████████| 9/9 [18:12<00:00, 121.43s/it]\n"
     ]
    }
   ],
   "source": [
    "\n",
    "max1=0\n",
    "AUC_Train=[]\n",
    "AUC_CV=[]\n",
    "#alpha = [10**x for x in range(-4,5)]\n",
    "#alpha = [10**-4]\n",
    "for c in tqdm(alpha):        \n",
    "    model=SVC(C=c, kernel='rbf', probability=True, cache_size=200, class_weight='balanced', decision_function_shape='ovo')\n",
    "    model_tf_idf=model.fit(X_train_tf_idf,y_train)         \n",
    "    y_CV_pred_proba = model_tf_idf.predict_proba(X_CV_tf_idf)[:,1]          \n",
    "    #y_CV_pred_proba = model_tf_idf.predict_proba(X_CV_tf_idf) [:,1] \n",
    "    y_Train_pred_proba = model_tf_idf.predict_proba(X_train_tf_idf)[:,1]     \n",
    "    temp=roc_auc_score(y_CV,y_CV_pred_proba)\n",
    "    AUC_CV.append(roc_auc_score(y_CV,y_CV_pred_proba))\n",
    "    if max1 < temp:\n",
    "        max1=temp        \n",
    "        c_opt=c\n",
    "    AUC_Train.append(roc_auc_score(y_train,y_Train_pred_proba))"
   ]
  },
  {
   "cell_type": "code",
   "execution_count": 40,
   "metadata": {},
   "outputs": [
    {
     "name": "stdout",
     "output_type": "stream",
     "text": [
      "AUC is max when alpha is 10 with AUC = 0.8935049774678119\n"
     ]
    },
    {
     "data": {
      "image/png": "[encoded data removed]",
      "text/plain": [
       "<Figure size 432x288 with 1 Axes>"
      ]
     },
     "metadata": {
      "needs_background": "light"
     },
     "output_type": "display_data"
    }
   ],
   "source": [
    "#Generate plot\n",
    "print(\"AUC is max when alpha is {} with AUC = {}\".format(c_opt,max1))\n",
    "c_tf_idf_rbf=c_opt\n",
    "plt.plot(np.log10(alpha),AUC_CV, label='SVM CV AUC')\n",
    "plt.plot(np.log10(alpha),AUC_Train,label='SVM Train AUC)')\n",
    "plt.xlabel('alpha')\n",
    "plt.ylabel('AUC')\n",
    "plt.legend()\n",
    "plt.title('SVM AUC curve')\n",
    "plt.show()"
   ]
  },
  {
   "cell_type": "code",
   "execution_count": 41,
   "metadata": {},
   "outputs": [
    {
     "name": "stdout",
     "output_type": "stream",
     "text": [
      "              precision    recall  f1-score   support\n",
      "\n",
      "           0       0.99      0.13      0.22     12483\n",
      "           1       0.13      0.99      0.23      1658\n",
      "\n",
      "    accuracy                           0.23     14141\n",
      "   macro avg       0.56      0.56      0.23     14141\n",
      "weighted avg       0.89      0.23      0.22     14141\n",
      "\n",
      "Test data AUC of SVM with tf_idf Implentation  :  0.8538601641779261\n",
      "Train data AUC of SVM with tf_idf Implentation  :  1.0\n"
     ]
    },
    {
     "data": {
      "image/png": "[encoded data removed]",
      "text/plain": [
       "<Figure size 432x288 with 1 Axes>"
      ]
     },
     "metadata": {
      "needs_background": "light"
     },
     "output_type": "display_data"
    },
    {
     "name": "stdout",
     "output_type": "stream",
     "text": [
      "the maximum value of tpr*(1-fpr) 1.0 for threshold 0.385\n",
      "Train confusion matrix\n",
      "[[1068    0]\n",
      " [   0 8830]]\n"
     ]
    },
    {
     "data": {
      "image/png": "[encoded data removed]",
      "text/plain": [
       "<Figure size 432x288 with 2 Axes>"
      ]
     },
     "metadata": {
      "needs_background": "light"
     },
     "output_type": "display_data"
    },
    {
     "name": "stdout",
     "output_type": "stream",
     "text": [
      "the maximum value of tpr*(1-fpr) 0.597870715753642 for threshold 0.936\n",
      "Test confusion matrix\n",
      "[[9353 3130]\n",
      " [ 335 1323]]\n"
     ]
    },
    {
     "data": {
      "image/png": "[encoded data removed]",
      "text/plain": [
       "<Figure size 432x288 with 2 Axes>"
      ]
     },
     "metadata": {
      "needs_background": "light"
     },
     "output_type": "display_data"
    },
    {
     "name": "stdout",
     "output_type": "stream",
     "text": [
      "Accuracy of SVM when alpha=10 is 0.22728237041227636\n"
     ]
    }
   ],
   "source": [
    "\n",
    "SVC_tf_idf =SVC(C=c_tf_idf_rbf, kernel='rbf', probability=True, cache_size=200, class_weight='balanced', decision_function_shape='ovo')\n",
    "SVC_tf_idf_rbf=SVC_tf_idf.fit(X_train_tf_idf,y_train)\n",
    "\n",
    "#cal_clf_BOW_lin=CalibratedClassifierCV(SVC_BOW_rbf,cv='prefit')\n",
    "#cal_clf_BOW_lin.fit(X_CV_BOW,y_CV)\n",
    "\n",
    "y_pred=SVC_tf_idf_rbf.predict(X_test_tf_idf)\n",
    "print(classification_report(y_test,y_pred))\n",
    "\n",
    "#predict probabilities\n",
    "y_Test_pred_proba = SVC_tf_idf_rbf.predict_proba(X_test_tf_idf)[:,1]\n",
    "y_Train_pred_proba = SVC_tf_idf_rbf.predict_proba(X_train_tf_idf)[:,1]\n",
    "\n",
    "#code for AUC\n",
    "fpr_Test, tpr_Test, thresholds_Test = roc_curve(y_test, y_Test_pred_proba)\n",
    "fpr_Train, tpr_Train, thresholds_train = roc_curve(y_train, y_Train_pred_proba)\n",
    "print(\"Test data AUC of SVM with tf_idf Implentation  : \",roc_auc_score(y_test,y_Test_pred_proba))\n",
    "AUC_tf_idf_rbf=roc_auc_score(y_test,y_Test_pred_proba)\n",
    "print(\"Train data AUC of SVM with tf_idf Implentation  : \",roc_auc_score(y_train,y_Train_pred_proba))\n",
    "\n",
    "\n",
    "#generate plot\n",
    "plt.plot(fpr_Test,tpr_Test, label='SVM Test ROC')\n",
    "plt.plot(fpr_Train,tpr_Train, label='SVM Train ROC')\n",
    "plt.xlabel('fpr')\n",
    "plt.ylabel('tpr')\n",
    "plt.legend()\n",
    "plt.title('SVM ROC curve')\n",
    "plt.show()\n",
    "\n",
    "\n",
    "#confusion matrix of train data\n",
    "best_t = find_best_threshold(thresholds_train, fpr_Train, tpr_Train)\n",
    "print(\"Train confusion matrix\")\n",
    "conf_matrix=confusion_matrix(y_train, predict_with_best_t(y_Train_pred_proba, best_t))\n",
    "print(confusion_matrix(y_train, predict_with_best_t(y_Train_pred_proba, best_t)))\n",
    "\n",
    "class_label = ['negative', 'positive']\n",
    "df_conf_matrix = pd.DataFrame(\n",
    "    conf_matrix, index=class_label, columns=class_label)\n",
    "sns.heatmap(df_conf_matrix, annot=True, fmt='d')\n",
    "plt.title(\"Confusion Matrix\")\n",
    "plt.xlabel(\"Predicted\")\n",
    "plt.ylabel(\"Actual\")\n",
    "plt.show()\n",
    "\n",
    "#confusion matrix of test data\n",
    "best_t = find_best_threshold(thresholds_Test, fpr_Test, tpr_Test)\n",
    "print(\"Test confusion matrix\")\n",
    "conf_matrix=confusion_matrix(y_test, predict_with_best_t(y_Test_pred_proba, best_t))\n",
    "print(confusion_matrix(y_test, predict_with_best_t(y_Test_pred_proba, best_t)))\n",
    "class_label = ['negative', 'positive']\n",
    "df_conf_matrix = pd.DataFrame(\n",
    "    conf_matrix, index=class_label, columns=class_label)\n",
    "sns.heatmap(df_conf_matrix, annot=True, fmt='d')\n",
    "plt.title(\"Confusion Matrix\")\n",
    "plt.xlabel(\"Predicted\")\n",
    "plt.ylabel(\"Actual\")\n",
    "plt.show()\n",
    "\n",
    "Accuracy_tf_idf_rbf=SVC_tf_idf_rbf.score(X_test_tf_idf, y_test)\n",
    "print('Accuracy of SVM when alpha={} is {}'.format(c_tf_idf_rbf,Accuracy_tf_idf_rbf))"
   ]
  },
  {
   "cell_type": "markdown",
   "metadata": {},
   "source": [
    "###   Applying Linear SVM on AVG W2V,<font color='red'> SET 3</font>"
   ]
  },
  {
   "cell_type": "code",
   "execution_count": 42,
   "metadata": {},
   "outputs": [
    {
     "name": "stderr",
     "output_type": "stream",
     "text": [
      "100%|████████████████████████████████████████████████████████████████████████| 28281/28281 [00:00<00:00, 101058.83it/s]\n"
     ]
    },
    {
     "name": "stdout",
     "output_type": "stream",
     "text": [
      "[['remember', 'seeing', 'show', 'aired', 'television', 'years', 'ago', 'child', 'sister', 'later', 'bought', 'lp', 'day', 'thirty', 'something', 'used', 'series', 'books', 'songs', 'student', 'teaching', 'preschoolers', 'turned', 'whole', 'school', 'purchasing', 'cd', 'along', 'books', 'children', 'tradition', 'lives', 'whole', 'series', 'great', 'way', 'spend', 'time', 'child']]\n",
      "\n",
      "\n",
      "<class 'list'>\n"
     ]
    }
   ],
   "source": [
    "i=0\n",
    "list_of_sentance=[]\n",
    "for sentance in tqdm(preprocessed_reviews):\n",
    "    list_of_sentance.append(sentance.split())\n",
    "print(list_of_sentance[1:2])\n",
    "print('\\n')\n",
    "print(type(preprocessed_reviews))"
   ]
  },
  {
   "cell_type": "code",
   "execution_count": 43,
   "metadata": {},
   "outputs": [
    {
     "name": "stdout",
     "output_type": "stream",
     "text": [
      "[['witty', 'little', 'book', 'makes', 'son', 'laugh', 'loud', 'recite', 'car', 'driving', 'along', 'always', 'sing', 'refrain', 'learned', 'whales', 'india', 'drooping', 'roses', 'love', 'new', 'words', 'book', 'introduces', 'silliness', 'classic', 'book', 'willing', 'bet', 'son', 'still', 'able', 'recite', 'memory', 'college', 'every', 'book', 'educational']]\n",
      "[['drink', 'ginger', 'tea', 'tried', 'product', 'even', 'though', 'labeled', 'lemon', 'ginger', 'tea', 'not', 'think', 'tea', 'ginger', 'label', 'reads', 'organic', 'lemon', 'ginger', 'tea', 'underneath', 'says', 'contains', 'organic', 'carob', 'organic', 'chicory', 'organic', 'african', 'rooibos', 'lemon', 'myrtle', 'not', 'ginger', 'tea', 'not', 'labeled', 'b', 'thomas', 'wrong', 'description', 'product']]\n"
     ]
    }
   ],
   "source": [
    "print(list_of_sentance[0:1])\n",
    "X_1, X_test_Avg_W2V_sent, y_t, y_test = train_test_split(list_of_sentance, y, test_size=0.3)\n",
    "X_train_Avg_W2V_sent, CV_Avg_W2V_sent, y_train, y_CV = train_test_split(X_1, y_t, test_size=0.3)\n",
    "print(X_train_Avg_W2V_sent[0:1])\n"
   ]
  },
  {
   "cell_type": "code",
   "execution_count": 44,
   "metadata": {},
   "outputs": [
    {
     "name": "stdout",
     "output_type": "stream",
     "text": [
      "number of words that occured minimum 5 times  7965\n",
      "sample words  ['drink', 'ginger', 'tea', 'tried', 'product', 'even', 'though', 'labeled', 'lemon', 'not', 'think', 'label', 'reads', 'organic', 'underneath', 'says', 'contains', 'carob', 'chicory', 'african', 'rooibos', 'myrtle', 'b', 'thomas', 'wrong', 'description', 'expecting', 'real', 'expresso', 'instant', 'coffee', 'use', 'make', 'amazon', 'products', 'better', 'represents', 'distance', 'dedicated', 'user', 'cytomax', 'since', 'smooth', 'tastes', 'great', 'delivers', 'dose', 'right', 'blend', 'carbohydrates']\n"
     ]
    }
   ],
   "source": [
    "w2v_model=Word2Vec(X_train_Avg_W2V_sent,min_count=5,size=50, workers=4)\n",
    "w2v_words = list(w2v_model.wv.vocab)\n",
    "print(\"number of words that occured minimum 5 times \",len(w2v_words))\n",
    "print(\"sample words \", w2v_words[0:50])"
   ]
  },
  {
   "cell_type": "code",
   "execution_count": 45,
   "metadata": {},
   "outputs": [
    {
     "name": "stderr",
     "output_type": "stream",
     "text": [
      "100%|███████████████████████████████████████████████████████████████████████████| 13857/13857 [00:30<00:00, 448.96it/s]\n"
     ]
    },
    {
     "name": "stdout",
     "output_type": "stream",
     "text": [
      "13857\n",
      "50\n",
      "[array([-1.05911716e-01, -1.85634272e-01, -5.40533084e-02, -1.54505153e-01,\n",
      "        1.15198676e-01,  1.61923984e-01, -3.33719837e-01, -3.13700560e-01,\n",
      "       -4.79558148e-02, -8.62045684e-02, -1.05962307e-01,  4.71312514e-01,\n",
      "       -3.25912033e-01, -5.80136225e-01,  8.23417338e-01, -1.91725654e-01,\n",
      "       -3.59648023e-01,  5.35593705e-01,  4.59074594e-01,  1.00229412e+00,\n",
      "        4.05444423e-01,  7.96950065e-01, -3.25547649e-01,  2.03475891e-01,\n",
      "        1.51065486e-01,  6.87424790e-01, -1.40680721e-02,  9.17838442e-01,\n",
      "        3.12973262e-01, -7.06847880e-01, -9.57678277e-02,  3.94447835e-01,\n",
      "        4.48446026e-01,  5.48901864e-01, -2.65902861e-01,  2.71713378e-01,\n",
      "       -2.52387922e-01,  4.42795892e-02,  1.19579875e-03,  1.08861665e+00,\n",
      "        6.41034450e-01, -3.77892446e-01,  1.56053534e-01, -2.91916329e-01,\n",
      "       -2.06805371e-03,  2.42536744e-01,  5.49517016e-01, -1.25069862e+00,\n",
      "        3.34162934e-01,  9.40805116e-02])]\n"
     ]
    }
   ],
   "source": [
    "# average Word2Vec\n",
    "# compute average word2vec for each review.\n",
    "from tqdm import  tqdm\n",
    "X_train_Avg_W2V = []; # the avg-w2v for each sentence/review is stored in this list\n",
    "for sent in tqdm(X_train_Avg_W2V_sent): # for each review/sentence\n",
    "    sent_vec = np.zeros(50) # as word vectors are of zero's with length 50, you might need to change this to 300 if you use google's w2v\n",
    "    cnt_words =0; # num of words with a valid vector in the sentence/review\n",
    "    for word in sent: # for each word in a review/sentence\n",
    "        if word in w2v_words:\n",
    "            vec = w2v_model.wv[word]\n",
    "            sent_vec += vec\n",
    "            cnt_words += 1\n",
    "    if cnt_words != 0:\n",
    "        sent_vec /= cnt_words\n",
    "    X_train_Avg_W2V.append(sent_vec)\n",
    "print(len(X_train_Avg_W2V))\n",
    "print(len(X_train_Avg_W2V[0]))\n",
    "print(X_train_Avg_W2V[0:1])"
   ]
  },
  {
   "cell_type": "code",
   "execution_count": 46,
   "metadata": {},
   "outputs": [
    {
     "name": "stderr",
     "output_type": "stream",
     "text": [
      "100%|█████████████████████████████████████████████████████████████████████████████| 5939/5939 [00:16<00:00, 359.18it/s]\n"
     ]
    },
    {
     "name": "stdout",
     "output_type": "stream",
     "text": [
      "5939\n",
      "50\n",
      "[array([-2.48752606e-01, -8.85383381e-02,  1.15389427e-02, -2.44866755e-01,\n",
      "       -2.31889055e-01,  2.80817862e-01, -5.93628622e-02, -2.77724160e-02,\n",
      "       -3.90489157e-01, -1.56105914e-01, -1.93606169e-01,  4.97017292e-01,\n",
      "       -1.05941804e-01, -7.38907568e-01,  8.47948309e-01, -2.96447726e-01,\n",
      "       -3.65184419e-01,  4.86963707e-01,  3.21788827e-01,  7.32255872e-01,\n",
      "        1.28432031e-01,  6.04385433e-01, -1.92582952e-01, -7.83593868e-03,\n",
      "        1.85258845e-01,  7.57165528e-01,  4.49847060e-02,  7.51605526e-01,\n",
      "       -2.15802787e-01, -5.46361802e-01, -6.33525284e-01,  3.44520570e-01,\n",
      "        3.35042499e-01,  4.61427376e-01, -1.16492596e-01, -1.01711166e-01,\n",
      "       -3.70352405e-01,  2.72203161e-01,  1.32572113e-02,  7.82822252e-01,\n",
      "        3.28448547e-01, -5.28844782e-01, -6.42502817e-01, -5.00241945e-02,\n",
      "        2.03596310e-01, -6.31899557e-02,  3.10132042e-01, -1.16204460e+00,\n",
      "        3.41581548e-01,  8.15883505e-04])]\n"
     ]
    }
   ],
   "source": [
    "# average Word2Vec\n",
    "# compute average word2vec for each review.\n",
    "from tqdm import  tqdm\n",
    "CV_Avg_W2V = []; # the avg-w2v for each sentence/review is stored in this list\n",
    "for sent in tqdm(CV_Avg_W2V_sent): # for each review/sentence\n",
    "    sent_vec = np.zeros(50) # as word vectors are of zero's with length 50, you might need to change this to 300 if you use google's w2v\n",
    "    cnt_words =0; # num of words with a valid vector in the sentence/review\n",
    "    for word in sent: # for each word in a review/sentence\n",
    "        if word in w2v_words:\n",
    "            vec = w2v_model.wv[word]\n",
    "            sent_vec += vec\n",
    "            cnt_words += 1\n",
    "    if cnt_words != 0:\n",
    "        sent_vec /= cnt_words\n",
    "    CV_Avg_W2V.append(sent_vec)\n",
    "print(len(CV_Avg_W2V))\n",
    "print(len(CV_Avg_W2V[0]))\n",
    "print(CV_Avg_W2V[0:1])"
   ]
  },
  {
   "cell_type": "code",
   "execution_count": 47,
   "metadata": {},
   "outputs": [
    {
     "name": "stderr",
     "output_type": "stream",
     "text": [
      "100%|█████████████████████████████████████████████████████████████████████████████| 8485/8485 [00:19<00:00, 426.61it/s]\n"
     ]
    },
    {
     "name": "stdout",
     "output_type": "stream",
     "text": [
      "8485\n",
      "50\n",
      "[array([-0.29757295, -0.57130816, -0.2548667 , -0.26368715, -0.41735411,\n",
      "        0.32207906, -0.16879128, -0.47783598, -0.0568423 , -0.46980247,\n",
      "       -0.27699372, -0.07177889, -0.21354323, -0.49670946,  0.63855591,\n",
      "       -0.22718055,  0.1671703 ,  0.27446317,  0.39667739,  0.3454915 ,\n",
      "        0.42840592,  0.77294321,  0.05921927, -0.27249058,  0.11062017,\n",
      "        0.42414909, -0.54218632,  0.76344046,  0.00568296, -0.37268889,\n",
      "       -0.5511199 , -0.04869325,  0.33538069, -0.04010781,  0.11714873,\n",
      "        0.2739433 , -0.65453454,  0.46315587, -0.34459359,  1.56737982,\n",
      "       -0.26536049, -0.41134776, -0.82173124,  0.26656221,  0.07759155,\n",
      "       -0.51853841,  0.20594848, -0.97621708,  0.11144035, -0.44915538])]\n"
     ]
    }
   ],
   "source": [
    "# average Word2Vec\n",
    "# compute average word2vec for each review.\n",
    "from tqdm import  tqdm\n",
    "X_test_Avg_W2V = []; # the avg-w2v for each sentence/review is stored in this list\n",
    "for sent in tqdm(X_test_Avg_W2V_sent): # for each review/sentence\n",
    "    sent_vec = np.zeros(50) # as word vectors are of zero's with length 50, you might need to change this to 300 if you use google's w2v\n",
    "    cnt_words =0; # num of words with a valid vector in the sentence/review\n",
    "    for word in sent: # for each word in a review/sentence\n",
    "        if word in w2v_words:\n",
    "            vec = w2v_model.wv[word]\n",
    "            sent_vec += vec\n",
    "            cnt_words += 1\n",
    "    if cnt_words != 0:\n",
    "        sent_vec /= cnt_words\n",
    "    X_test_Avg_W2V.append(sent_vec)\n",
    "print(len(X_test_Avg_W2V))\n",
    "print(len(X_test_Avg_W2V[0]))\n",
    "print(X_test_Avg_W2V[0:1])"
   ]
  },
  {
   "cell_type": "code",
   "execution_count": 48,
   "metadata": {},
   "outputs": [
    {
     "name": "stdout",
     "output_type": "stream",
     "text": [
      "[[-0.48743018 -0.92522297 -0.24343528 -1.35951027  0.70635249  0.87750174\n",
      "  -1.62664785 -1.75060353 -0.30298098 -0.41956925 -0.91249429  1.61667274\n",
      "  -1.07068506 -2.11891885  3.96708538 -0.79084605 -1.74239354  2.24122357\n",
      "   2.26616108  6.51095151  1.46187834  3.43430955 -1.91080788  1.14015444\n",
      "   0.80461261  3.03966271 -0.05855028  3.49067875  1.4177331  -2.20063278\n",
      "  -0.35391831  1.43560208  2.5585068   3.26751616 -1.55629038  0.89731003\n",
      "  -1.46167983  0.24897652  0.00922887  3.5356101   2.89274956 -2.67184568\n",
      "   0.54629213 -0.91123431 -0.00787967  1.00732496  3.5776847  -4.00994792\n",
      "   1.29591219  0.48673896]]\n",
      "\n",
      " 13857\n"
     ]
    }
   ],
   "source": [
    "from sklearn.preprocessing import StandardScaler\n",
    "\n",
    "\n",
    "SS=StandardScaler(with_mean=False).fit(X_train_Avg_W2V)\n",
    "X_train_Avg_W2V=SS.transform(X_train_Avg_W2V)\n",
    "X_CV_Avg_W2V= SS.transform(CV_Avg_W2V)\n",
    "X_test_Avg_W2V=SS.transform(X_test_Avg_W2V)\n",
    "print(X_train_Avg_W2V[0:1])\n",
    "print(\"\\n\",len(X_train_Avg_W2V))\n"
   ]
  },
  {
   "cell_type": "code",
   "execution_count": 49,
   "metadata": {},
   "outputs": [],
   "source": [
    "max1=0\n",
    "AUC_Train_l1=[]\n",
    "AUC_Train_l2=[]\n",
    "AUC_CV_l1=[]\n",
    "AUC_CV_l2=[]\n",
    "#alpha = [10**x for x in range(-4,5)]\n",
    "#print(alpha)\n",
    "#alpha = [10**-4]\n",
    "penalty_lst=['l1','l2']\n",
    "#penalty_lin_opt=None\n",
    "for pnlty in penalty_lst:\n",
    "    for c in alpha: \n",
    "        #print(pnlty)\n",
    "        model_Avg_W2V=SGDClassifier(loss='hinge',learning_rate='constant',alpha=c,penalty=pnlty,eta0=0.1,max_iter=1000)\n",
    "        model_Avg_W2V=model_Avg_W2V.fit(X_train_Avg_W2V,y_train)         \n",
    "        #y_CV_pred_proba = model_BOW.predict_proba(CV_BOW)[:,1]      \n",
    "        cal_clf_Avg_W2V_cv=CalibratedClassifierCV(model_Avg_W2V,cv='prefit')\n",
    "        cal_clf_Avg_W2V_cv.fit(X_train_Avg_W2V,y_train)\n",
    "        y_CV_pred_proba=cal_clf_Avg_W2V_cv.predict_proba(X_CV_Avg_W2V) [:,1] \n",
    "        y_Train_pred_proba = cal_clf_Avg_W2V_cv.predict_proba(X_train_Avg_W2V)[:,1] \n",
    "        #print(y_CV_pred_proba)\n",
    "        #print(y_CV)\n",
    "        if pnlty == 'l1':\n",
    "            AUC_CV_l1.append(roc_auc_score(y_CV,y_CV_pred_proba))\n",
    "            AUC_Train_l1.append(roc_auc_score(y_train,y_Train_pred_proba))\n",
    "        else:\n",
    "            AUC_CV_l2.append(roc_auc_score(y_CV,y_CV_pred_proba))\n",
    "            AUC_Train_l2.append(roc_auc_score(y_train,y_Train_pred_proba))\n",
    "        temp=roc_auc_score(y_CV,y_CV_pred_proba)\n",
    "        \n",
    "        if max1 < temp:\n",
    "            max1=temp        \n",
    "            c_opt=c\n",
    "            penalty_lin_Avg_W2V=pnlty\n",
    "    "
   ]
  },
  {
   "cell_type": "code",
   "execution_count": 50,
   "metadata": {},
   "outputs": [
    {
     "name": "stdout",
     "output_type": "stream",
     "text": [
      "AUC is max when alpha is 0.0001, penalty is l1 with AUC = 0.8814453064749975\n"
     ]
    },
    {
     "data": {
      "image/png": "[encoded data removed]",
      "text/plain": [
       "<Figure size 432x288 with 1 Axes>"
      ]
     },
     "metadata": {
      "needs_background": "light"
     },
     "output_type": "display_data"
    }
   ],
   "source": [
    "#Generate plot\n",
    "#print(penalty_lin_BOW)\n",
    "print(\"AUC is max when alpha is {}, penalty is {} with AUC = {}\".format(c_opt,penalty_lin_Avg_W2V,max1))\n",
    "c_Avg_W2V_lin=c_opt\n",
    "if penalty_lin_Avg_W2V == 'l1':\n",
    "    AUC_CV=AUC_CV_l1   \n",
    "    AUC_Train=AUC_Train_l1\n",
    "else:\n",
    "    AUC_CV=AUC_CV_l2\n",
    "    AUC_Train=AUC_Train_l2\n",
    "plt.plot(np.log10(alpha),AUC_CV, label='SVM CV AUC')\n",
    "plt.plot(np.log10(alpha),AUC_Train,label='SVM Train AUC)')\n",
    "plt.xlabel('alpha')\n",
    "plt.ylabel('AUC')\n",
    "plt.legend()\n",
    "plt.title('SVM AUC curve')\n",
    "plt.show()\n"
   ]
  },
  {
   "cell_type": "code",
   "execution_count": 51,
   "metadata": {},
   "outputs": [
    {
     "name": "stdout",
     "output_type": "stream",
     "text": [
      "              precision    recall  f1-score   support\n",
      "\n",
      "           0       0.79      0.82      0.80      4143\n",
      "           1       0.82      0.79      0.80      4342\n",
      "\n",
      "    accuracy                           0.80      8485\n",
      "   macro avg       0.80      0.80      0.80      8485\n",
      "weighted avg       0.80      0.80      0.80      8485\n",
      "\n",
      "Test data AUC of SVM with Avg_W2V Implentation  :  0.8828508526310606\n",
      "Train data AUC of SVM with Avg_W2V Implentation  :  0.8848017823089336\n"
     ]
    },
    {
     "data": {
      "image/png": "[encoded data removed]",
      "text/plain": [
       "<Figure size 432x288 with 1 Axes>"
      ]
     },
     "metadata": {
      "needs_background": "light"
     },
     "output_type": "display_data"
    },
    {
     "name": "stdout",
     "output_type": "stream",
     "text": [
      "the maximum value of tpr*(1-fpr) 0.6514497929641138 for threshold 0.497\n",
      "Train confusion matrix\n",
      "[[5618 1199]\n",
      " [1475 5565]]\n"
     ]
    },
    {
     "data": {
      "image/png": "[encoded data removed]",
      "text/plain": [
       "<Figure size 432x288 with 2 Axes>"
      ]
     },
     "metadata": {
      "needs_background": "light"
     },
     "output_type": "display_data"
    },
    {
     "name": "stdout",
     "output_type": "stream",
     "text": [
      "the maximum value of tpr*(1-fpr) 0.6459979834237836 for threshold 0.499\n",
      "Test confusion matrix\n",
      "[[3387  756]\n",
      " [ 911 3431]]\n"
     ]
    },
    {
     "data": {
      "image/png": "[encoded data removed]",
      "text/plain": [
       "<Figure size 432x288 with 2 Axes>"
      ]
     },
     "metadata": {
      "needs_background": "light"
     },
     "output_type": "display_data"
    },
    {
     "name": "stdout",
     "output_type": "stream",
     "text": [
      "Accuracy of SVM when alpha=0.0001, with penalty = l1 is 0.8032999410724808\n"
     ]
    }
   ],
   "source": [
    "SGD_Avg_W2V =SGDClassifier(loss='hinge',learning_rate='constant',alpha=c_Avg_W2V_lin,penalty=penalty_lin_Avg_W2V,eta0=0.1,max_iter=1000)\n",
    "SGD_Avg_W2V_lin=SGD_Avg_W2V.fit(X_train_Avg_W2V,y_train)\n",
    "\n",
    "cal_clf_Avg_W2V_lin=CalibratedClassifierCV(SGD_Avg_W2V_lin,cv='prefit')\n",
    "cal_clf_Avg_W2V_lin.fit(X_CV_Avg_W2V,y_CV)\n",
    "\n",
    "y_pred=cal_clf_Avg_W2V_lin.predict(X_test_Avg_W2V)\n",
    "print(classification_report(y_test,y_pred))\n",
    "\n",
    "#predict probabilities\n",
    "y_Test_pred_proba = cal_clf_Avg_W2V_lin.predict_proba(X_test_Avg_W2V)[:,1]\n",
    "y_Train_pred_proba = cal_clf_Avg_W2V_lin.predict_proba(X_train_Avg_W2V)[:,1]\n",
    "\n",
    "#code for AUC\n",
    "fpr_Test, tpr_Test, thresholds_Test = roc_curve(y_test, y_Test_pred_proba)\n",
    "fpr_Train, tpr_Train, thresholds_train = roc_curve(y_train, y_Train_pred_proba)\n",
    "print(\"Test data AUC of SVM with Avg_W2V Implentation  : \",roc_auc_score(y_test,y_Test_pred_proba))\n",
    "AUC_Avg_W2V_lin=roc_auc_score(y_test,y_Test_pred_proba)\n",
    "print(\"Train data AUC of SVM with Avg_W2V Implentation  : \",roc_auc_score(y_train,y_Train_pred_proba))\n",
    "\n",
    "\n",
    "#generate plot\n",
    "plt.plot(fpr_Test,tpr_Test, label='SVM Test ROC')\n",
    "plt.plot(fpr_Train,tpr_Train, label='SVM Train ROC')\n",
    "plt.xlabel('fpr')\n",
    "plt.ylabel('tpr')\n",
    "plt.legend()\n",
    "plt.title('SVM ROC curve')\n",
    "plt.show()\n",
    "\n",
    "\n",
    "#confusion matrix of train data\n",
    "best_t = find_best_threshold(thresholds_train, fpr_Train, tpr_Train)\n",
    "print(\"Train confusion matrix\")\n",
    "conf_matrix=confusion_matrix(y_train, predict_with_best_t(y_Train_pred_proba, best_t))\n",
    "print(confusion_matrix(y_train, predict_with_best_t(y_Train_pred_proba, best_t)))\n",
    "\n",
    "class_label = ['negative', 'positive']\n",
    "df_conf_matrix = pd.DataFrame(\n",
    "    conf_matrix, index=class_label, columns=class_label)\n",
    "sns.heatmap(df_conf_matrix, annot=True, fmt='d')\n",
    "plt.title(\"Confusion Matrix\")\n",
    "plt.xlabel(\"Predicted\")\n",
    "plt.ylabel(\"Actual\")\n",
    "plt.show()\n",
    "\n",
    "#confusion matrix of test data\n",
    "best_t = find_best_threshold(thresholds_Test, fpr_Test, tpr_Test)\n",
    "print(\"Test confusion matrix\")\n",
    "conf_matrix=confusion_matrix(y_test, predict_with_best_t(y_Test_pred_proba, best_t))\n",
    "print(confusion_matrix(y_test, predict_with_best_t(y_Test_pred_proba, best_t)))\n",
    "class_label = ['negative', 'positive']\n",
    "df_conf_matrix = pd.DataFrame(\n",
    "    conf_matrix, index=class_label, columns=class_label)\n",
    "sns.heatmap(df_conf_matrix, annot=True, fmt='d')\n",
    "plt.title(\"Confusion Matrix\")\n",
    "plt.xlabel(\"Predicted\")\n",
    "plt.ylabel(\"Actual\")\n",
    "plt.show()\n",
    "\n",
    "Accuracy_Avg_W2V_lin=cal_clf_Avg_W2V_lin.score(X_test_Avg_W2V, y_test)\n",
    "print('Accuracy of SVM when alpha={}, with penalty = {} is {}'.format(c_Avg_W2V_lin,penalty_lin_Avg_W2V,Accuracy_Avg_W2V_lin))\n",
    "\n"
   ]
  },
  {
   "cell_type": "markdown",
   "metadata": {},
   "source": [
    "###   Applying RBF SVM on AVG W2V,<font color='red'> SET 3</font>"
   ]
  },
  {
   "cell_type": "code",
   "execution_count": 52,
   "metadata": {},
   "outputs": [
    {
     "name": "stderr",
     "output_type": "stream",
     "text": [
      "100%|███████████████████████████████████████████████████████████████████████████████████| 9/9 [32:56<00:00, 219.58s/it]\n"
     ]
    }
   ],
   "source": [
    "max1=0\n",
    "AUC_Train=[]\n",
    "AUC_CV=[]\n",
    "#alpha = [10**x for x in range(-4,5)]\n",
    "#alpha = [10**-4]\n",
    "for c in tqdm(alpha):        \n",
    "    model=SVC(C=c, kernel='rbf', probability=True, cache_size=200, class_weight='balanced', decision_function_shape='ovo')\n",
    "    model_Avg_W2V=model.fit(X_train_Avg_W2V,y_train)         \n",
    "    y_CV_pred_proba = model_Avg_W2V.predict_proba(X_CV_Avg_W2V)[:,1]      \n",
    "    y_CV_pred_proba=model_Avg_W2V.predict_proba(X_CV_Avg_W2V) [:,1] \n",
    "    y_Train_pred_proba = model_Avg_W2V.predict_proba(X_train_Avg_W2V)[:,1] \n",
    "    #print(y_CV_pred_proba)\n",
    "    #print(y_CV)\n",
    "    temp=roc_auc_score(y_CV,y_CV_pred_proba)\n",
    "    AUC_CV.append(roc_auc_score(y_CV,y_CV_pred_proba))\n",
    "    if max1 < temp:\n",
    "        max1=temp        \n",
    "        c_opt=c\n",
    "    AUC_Train.append(roc_auc_score(y_train,y_Train_pred_proba))\n"
   ]
  },
  {
   "cell_type": "code",
   "execution_count": 53,
   "metadata": {},
   "outputs": [
    {
     "name": "stdout",
     "output_type": "stream",
     "text": [
      "AUC is max when alpha is 1 with AUC = 0.907240085086075\n"
     ]
    },
    {
     "data": {
      "image/png": "[encoded data removed]",
      "text/plain": [
       "<Figure size 432x288 with 1 Axes>"
      ]
     },
     "metadata": {
      "needs_background": "light"
     },
     "output_type": "display_data"
    }
   ],
   "source": [
    "#Generate plot\n",
    "print(\"AUC is max when alpha is {} with AUC = {}\".format(c_opt,max1))\n",
    "c_Avg_W2V_rbf=c_opt\n",
    "plt.plot(np.log10(alpha),AUC_CV, label='SVM CV AUC')\n",
    "plt.plot(np.log10(alpha),AUC_Train,label='SVM Train AUC)')\n",
    "plt.xlabel('alpha')\n",
    "plt.ylabel('AUC')\n",
    "plt.legend()\n",
    "plt.title('SVM AUC curve')\n",
    "plt.show()"
   ]
  },
  {
   "cell_type": "code",
   "execution_count": 54,
   "metadata": {},
   "outputs": [
    {
     "name": "stdout",
     "output_type": "stream",
     "text": [
      "              precision    recall  f1-score   support\n",
      "\n",
      "           0       0.82      0.85      0.84      4143\n",
      "           1       0.85      0.82      0.84      4342\n",
      "\n",
      "    accuracy                           0.84      8485\n",
      "   macro avg       0.84      0.84      0.84      8485\n",
      "weighted avg       0.84      0.84      0.84      8485\n",
      "\n",
      "Test data AUC of SVM with Avg_W2V Implentation  :  0.913427336826375\n",
      "Train data AUC of SVM with Avg_W2V Implentation  :  0.928669125565098\n"
     ]
    },
    {
     "data": {
      "image/png": "[encoded data removed]",
      "text/plain": [
       "<Figure size 432x288 with 1 Axes>"
      ]
     },
     "metadata": {
      "needs_background": "light"
     },
     "output_type": "display_data"
    },
    {
     "name": "stdout",
     "output_type": "stream",
     "text": [
      "the maximum value of tpr*(1-fpr) 0.7390165962100098 for threshold 0.487\n",
      "Train confusion matrix\n",
      "[[5919  898]\n",
      " [1048 5992]]\n"
     ]
    },
    {
     "data": {
      "image/png": "[encoded data removed]",
      "text/plain": [
       "<Figure size 432x288 with 2 Axes>"
      ]
     },
     "metadata": {
      "needs_background": "light"
     },
     "output_type": "display_data"
    },
    {
     "name": "stdout",
     "output_type": "stream",
     "text": [
      "the maximum value of tpr*(1-fpr) 0.7012574861417364 for threshold 0.551\n",
      "Test confusion matrix\n",
      "[[3595  548]\n",
      " [ 833 3509]]\n"
     ]
    },
    {
     "data": {
      "image/png": "[encoded data removed]",
      "text/plain": [
       "<Figure size 432x288 with 2 Axes>"
      ]
     },
     "metadata": {
      "needs_background": "light"
     },
     "output_type": "display_data"
    },
    {
     "name": "stdout",
     "output_type": "stream",
     "text": [
      "Accuracy of SVM when alpha=1 is 0.8360636417206836\n"
     ]
    }
   ],
   "source": [
    "SVC_Avg_W2V =SVC(C=c_Avg_W2V_rbf, kernel='rbf', probability=True, cache_size=200, class_weight='balanced', decision_function_shape='ovo')\n",
    "SVC_Avg_W2V_rbf=SVC_Avg_W2V.fit(X_train_Avg_W2V,y_train)\n",
    "\n",
    "#cal_clf_BOW_lin=CalibratedClassifierCV(SVC_BOW_rbf,cv='prefit')\n",
    "#cal_clf_BOW_lin.fit(X_CV_BOW,y_CV)\n",
    "\n",
    "y_pred=SVC_Avg_W2V_rbf.predict(X_test_Avg_W2V)\n",
    "print(classification_report(y_test,y_pred))\n",
    "\n",
    "#predict probabilities\n",
    "y_Test_pred_proba = SVC_Avg_W2V_rbf.predict_proba(X_test_Avg_W2V)[:,1]\n",
    "y_Train_pred_proba = SVC_Avg_W2V_rbf.predict_proba(X_train_Avg_W2V)[:,1]\n",
    "\n",
    "#code for AUC\n",
    "fpr_Test, tpr_Test, thresholds_Test = roc_curve(y_test, y_Test_pred_proba)\n",
    "fpr_Train, tpr_Train, thresholds_train = roc_curve(y_train, y_Train_pred_proba)\n",
    "print(\"Test data AUC of SVM with Avg_W2V Implentation  : \",roc_auc_score(y_test,y_Test_pred_proba))\n",
    "AUC_Avg_W2V_rbf=roc_auc_score(y_test,y_Test_pred_proba)\n",
    "print(\"Train data AUC of SVM with Avg_W2V Implentation  : \",roc_auc_score(y_train,y_Train_pred_proba))\n",
    "\n",
    "\n",
    "#generate plot\n",
    "plt.plot(fpr_Test,tpr_Test, label='SVM Test ROC')\n",
    "plt.plot(fpr_Train,tpr_Train, label='SVM Train ROC')\n",
    "plt.xlabel('fpr')\n",
    "plt.ylabel('tpr')\n",
    "plt.legend()\n",
    "plt.title('SVM ROC curve')\n",
    "plt.show()\n",
    "\n",
    "\n",
    "#confusion matrix of train data\n",
    "best_t = find_best_threshold(thresholds_train, fpr_Train, tpr_Train)\n",
    "print(\"Train confusion matrix\")\n",
    "conf_matrix=confusion_matrix(y_train, predict_with_best_t(y_Train_pred_proba, best_t))\n",
    "print(confusion_matrix(y_train, predict_with_best_t(y_Train_pred_proba, best_t)))\n",
    "\n",
    "class_label = ['negative', 'positive']\n",
    "df_conf_matrix = pd.DataFrame(\n",
    "    conf_matrix, index=class_label, columns=class_label)\n",
    "sns.heatmap(df_conf_matrix, annot=True, fmt='d')\n",
    "plt.title(\"Confusion Matrix\")\n",
    "plt.xlabel(\"Predicted\")\n",
    "plt.ylabel(\"Actual\")\n",
    "plt.show()\n",
    "\n",
    "#confusion matrix of test data\n",
    "best_t = find_best_threshold(thresholds_Test, fpr_Test, tpr_Test)\n",
    "print(\"Test confusion matrix\")\n",
    "conf_matrix=confusion_matrix(y_test, predict_with_best_t(y_Test_pred_proba, best_t))\n",
    "print(confusion_matrix(y_test, predict_with_best_t(y_Test_pred_proba, best_t)))\n",
    "class_label = ['negative', 'positive']\n",
    "df_conf_matrix = pd.DataFrame(\n",
    "    conf_matrix, index=class_label, columns=class_label)\n",
    "sns.heatmap(df_conf_matrix, annot=True, fmt='d')\n",
    "plt.title(\"Confusion Matrix\")\n",
    "plt.xlabel(\"Predicted\")\n",
    "plt.ylabel(\"Actual\")\n",
    "plt.show()\n",
    "\n",
    "Accuracy_Avg_W2V_rbf=SVC_Avg_W2V_rbf.score(X_test_Avg_W2V, y_test)\n",
    "print('Accuracy of SVM when alpha={} is {}'.format(c_Avg_W2V_rbf,Accuracy_Avg_W2V_rbf))\t"
   ]
  },
  {
   "cell_type": "markdown",
   "metadata": {},
   "source": [
    "###   Applying Linear SVM on TFIDF W2V,<font color='red'> SET 4</font>"
   ]
  },
  {
   "cell_type": "code",
   "execution_count": 55,
   "metadata": {},
   "outputs": [],
   "source": [
    "X_1, X_test, y_t, y_test = train_test_split(preprocessed_reviews, y, test_size=0.3)\n",
    "X_train, CV, y_train, y_CV = train_test_split(X_1, y_t, test_size=0.3)# Please write all the code with proper documentation"
   ]
  },
  {
   "cell_type": "code",
   "execution_count": 56,
   "metadata": {},
   "outputs": [
    {
     "name": "stdout",
     "output_type": "stream",
     "text": [
      "[['buying', 'nature', 'path', 'gluten', 'free', 'foods', 'number', 'years', 'fully', 'satisfied', 'access', 'somewhat', 'lower', 'prices', 'traditional', 'grocery', 'stores', 'put', 'products', 'delighted', 'amazon', 'price', 'virtually', 'identical', 'prices', 'offered', 'discount', 'organic', 'foods', 'market', 'purchased', 'past', 'doubt', 'find', 'nature', 'path', 'products', 'lower', 'anywhere', 'else', 'particularly', 'consider', 'no', 'sales', 'tax', 'free', 'shipping', 'order', 'large', 'enough', 'also', 'contacted', 'nature', 'path', 'question', 'one', 'products', 'mesa', 'sunrise', 'flakes', 'customer', 'service', 'excellent', 'friendly', 'much', 'nicer', 'typically', 'get', 'states', 'canadian', 'company', 'b', 'c', 'sounds', 'like', 'commercial', 'not', 'intended', 'entirely', 'satisfied', 'nature', 'path', 'foods', 'years', 'no', 'complaints', 'company', 'good', 'job', 'deserve', 'referrals', 'everybody', 'wins', 'long', 'time', 'user', 'eater', 'love', 'em']]\n"
     ]
    }
   ],
   "source": [
    "i=0\n",
    "list_of_sentance_train=[]\n",
    "for sentance in X_train:\n",
    "    list_of_sentance_train.append(sentance.split())\n",
    "print(list_of_sentance_train[1:2])\n",
    "\n"
   ]
  },
  {
   "cell_type": "code",
   "execution_count": 57,
   "metadata": {},
   "outputs": [
    {
     "name": "stdout",
     "output_type": "stream",
     "text": [
      "[['breakfast', 'blend', 'perfect', 'start', 'day', 'warm', 'mellow', 'taste', 'wonderful', 'delicious']]\n"
     ]
    }
   ],
   "source": [
    "i=0\n",
    "list_of_sentance_cv=[]\n",
    "for sentance in CV:\n",
    "    list_of_sentance_cv.append(sentance.split())\n",
    "print(list_of_sentance_cv[1:2])\n"
   ]
  },
  {
   "cell_type": "code",
   "execution_count": 58,
   "metadata": {},
   "outputs": [
    {
     "name": "stdout",
     "output_type": "stream",
     "text": [
      "[['herbs', 'young', 'taste', 'yet', 'coming', 'along', 'previously', 'grew', 'salad', 'greens', 'thrived', 'not', 'handy', 'fresh', 'herbs', 'growing', 'especially', 'one', 'considers', 'high', 'prices', 'fresh', 'herbs', 'grocery', 'store', 'trying', 'patient', 'check', 'growth', 'daily', 'basis', 'great', 'fun']]\n"
     ]
    }
   ],
   "source": [
    "i=0\n",
    "list_of_sentance_test=[]\n",
    "for sentance in X_test:\n",
    "    list_of_sentance_test.append(sentance.split())\n",
    "print(list_of_sentance_test[1:2])"
   ]
  },
  {
   "cell_type": "code",
   "execution_count": 59,
   "metadata": {},
   "outputs": [],
   "source": [
    "# S = [\"abc def pqr\", \"def def def abc\", \"pqr pqr def\"]\n",
    "model = TfidfVectorizer()\n",
    "model.fit(X_train)\n",
    "tf_idf_matrix = model.transform(X_train)\n",
    "\n",
    "# we are converting a dictionary with word as a key, and the idf as a value\n",
    "\n",
    "\n",
    "dictionary = dict(zip(model.get_feature_names(), list(model.idf_)))"
   ]
  },
  {
   "cell_type": "code",
   "execution_count": 60,
   "metadata": {},
   "outputs": [
    {
     "name": "stderr",
     "output_type": "stream",
     "text": [
      "100%|████████████████████████████████████████████████████████████████████████████| 13857/13857 [06:20<00:00, 36.44it/s]\n"
     ]
    }
   ],
   "source": [
    "# TF-IDF weighted Word2Vec\n",
    "tfidf_feat = model.get_feature_names() # tfidf words/col-names\n",
    "# final_tf_idf is the sparse matrix with row= sentence, col=word and cell_val = tfidf\n",
    "\n",
    "X_train_tf_idf_W2V = []; # the tfidf-w2v for each sentence/review is stored in this list\n",
    "row=0;\n",
    "for sent in tqdm(list_of_sentance_train): # for each review/sentence \n",
    "    sent_vec = np.zeros(50) # as word vectors are of zero length\n",
    "    weight_sum =0; # num of words with a valid vector in the sentence/review\n",
    "    for word in sent: # for each word in a review/sentence\n",
    "        if word in w2v_words and word in tfidf_feat:\n",
    "            vec = w2v_model.wv[word]\n",
    "#             tf_idf = tf_idf_matrix[row, tfidf_feat.index(word)]\n",
    "            # to reduce the computation we are \n",
    "            # dictionary[word] = idf value of word in whole courpus\n",
    "            # sent.count(word) = tf valeus of word in this review\n",
    "            tf_idf = dictionary[word]*(sent.count(word)/len(sent))\n",
    "            sent_vec += (vec * tf_idf)\n",
    "            weight_sum += tf_idf\n",
    "    if weight_sum != 0:\n",
    "        sent_vec /= weight_sum\n",
    "    X_train_tf_idf_W2V.append(sent_vec)\n",
    "    row += 1"
   ]
  },
  {
   "cell_type": "code",
   "execution_count": 61,
   "metadata": {},
   "outputs": [
    {
     "name": "stderr",
     "output_type": "stream",
     "text": [
      "100%|██████████████████████████████████████████████████████████████████████████████| 5939/5939 [02:19<00:00, 42.43it/s]\n"
     ]
    }
   ],
   "source": [
    "# TF-IDF weighted Word2Vec\n",
    "tfidf_feat = model.get_feature_names() # tfidf words/col-names\n",
    "# final_tf_idf is the sparse matrix with row= sentence, col=word and cell_val = tfidf\n",
    "\n",
    "CV_tf_idf_W2V = []; # the tfidf-w2v for each sentence/review is stored in this list\n",
    "row=0;\n",
    "for sent in tqdm(list_of_sentance_cv): # for each review/sentence \n",
    "    sent_vec = np.zeros(50) # as word vectors are of zero length\n",
    "    weight_sum =0; # num of words with a valid vector in the sentence/review\n",
    "    for word in sent: # for each word in a review/sentence\n",
    "        if word in w2v_words and word in tfidf_feat:\n",
    "            vec = w2v_model.wv[word]\n",
    "#             tf_idf = tf_idf_matrix[row, tfidf_feat.index(word)]\n",
    "            # to reduce the computation we are \n",
    "            # dictionary[word] = idf value of word in whole courpus\n",
    "            # sent.count(word) = tf valeus of word in this review\n",
    "            tf_idf = dictionary[word]*(sent.count(word)/len(sent))\n",
    "            sent_vec += (vec * tf_idf)\n",
    "            weight_sum += tf_idf\n",
    "    if weight_sum != 0:\n",
    "        sent_vec /= weight_sum\n",
    "    CV_tf_idf_W2V.append(sent_vec)\n",
    "    row += 1"
   ]
  },
  {
   "cell_type": "code",
   "execution_count": 62,
   "metadata": {},
   "outputs": [
    {
     "name": "stderr",
     "output_type": "stream",
     "text": [
      "100%|██████████████████████████████████████████████████████████████████████████████| 8485/8485 [03:41<00:00, 38.37it/s]\n"
     ]
    }
   ],
   "source": [
    "# TF-IDF weighted Word2Vec\n",
    "tfidf_feat = model.get_feature_names() # tfidf words/col-names\n",
    "# final_tf_idf is the sparse matrix with row= sentence, col=word and cell_val = tfidf\n",
    "\n",
    "X_test_tf_idf_W2V = []; # the tfidf-w2v for each sentence/review is stored in this list\n",
    "row=0;\n",
    "for sent in tqdm(list_of_sentance_test): # for each review/sentence \n",
    "    sent_vec = np.zeros(50) # as word vectors are of zero length\n",
    "    weight_sum =0; # num of words with a valid vector in the sentence/review\n",
    "    for word in sent: # for each word in a review/sentence\n",
    "        if word in w2v_words and word in tfidf_feat:\n",
    "            vec = w2v_model.wv[word]\n",
    "#             tf_idf = tf_idf_matrix[row, tfidf_feat.index(word)]\n",
    "            # to reduce the computation we are \n",
    "            # dictionary[word] = idf value of word in whole courpus\n",
    "            # sent.count(word) = tf valeus of word in this review\n",
    "            tf_idf = dictionary[word]*(sent.count(word)/len(sent))\n",
    "            sent_vec += (vec * tf_idf)\n",
    "            weight_sum += tf_idf\n",
    "    if weight_sum != 0:\n",
    "        sent_vec /= weight_sum\n",
    "    X_test_tf_idf_W2V.append(sent_vec)\n",
    "    row += 1"
   ]
  },
  {
   "cell_type": "code",
   "execution_count": 63,
   "metadata": {},
   "outputs": [],
   "source": [
    "from sklearn.preprocessing import StandardScaler\n",
    "\n",
    "SS=StandardScaler(with_mean=False).fit(X_train_tf_idf_W2V)\n",
    "X_train_tf_idf_W2V = SS.transform(X_train_tf_idf_W2V)\n",
    "X_CV_tf_idf_W2V= SS.transform(CV_tf_idf_W2V)\n",
    "X_test_tf_idf_W2V=SS.transform(X_test_tf_idf_W2V)"
   ]
  },
  {
   "cell_type": "code",
   "execution_count": 64,
   "metadata": {},
   "outputs": [],
   "source": [
    "\n",
    "max1=0\n",
    "AUC_Train_l1=[]\n",
    "AUC_Train_l2=[]\n",
    "AUC_CV_l1=[]\n",
    "AUC_CV_l2=[]\n",
    "#alpha = [10**x for x in range(-4,5)]\n",
    "#print(alpha)\n",
    "#alpha = [10**-4]\n",
    "penalty_lst=['l1','l2']\n",
    "#penalty_lin_opt=None\n",
    "for pnlty in penalty_lst:\n",
    "    for c in alpha: \n",
    "        #print(pnlty)\n",
    "        model=SGDClassifier(loss='hinge',learning_rate='constant',alpha=c,penalty=pnlty,eta0=0.1,max_iter=1000)\n",
    "        model_tf_idf_W2V=model.fit(X_train_tf_idf_W2V,y_train)         \n",
    "        #y_CV_pred_proba = model_BOW.predict_proba(CV_BOW)[:,1]      \n",
    "        cal_clf_tf_idf_W2V_cv=CalibratedClassifierCV(model_tf_idf_W2V,cv='prefit')\n",
    "        cal_clf_tf_idf_W2V_cv.fit(X_train_tf_idf_W2V,y_train)\n",
    "        y_CV_pred_proba=cal_clf_tf_idf_W2V_cv.predict_proba(X_CV_tf_idf_W2V) [:,1] \n",
    "        y_Train_pred_proba = cal_clf_tf_idf_W2V_cv.predict_proba(X_train_tf_idf_W2V)[:,1] \n",
    "        #print(y_CV_pred_proba)\n",
    "        #print(y_CV)\n",
    "        if pnlty == 'l1':\n",
    "            AUC_CV_l1.append(roc_auc_score(y_CV,y_CV_pred_proba))\n",
    "            AUC_Train_l1.append(roc_auc_score(y_train,y_Train_pred_proba))\n",
    "        else:\n",
    "            AUC_CV_l2.append(roc_auc_score(y_CV,y_CV_pred_proba))\n",
    "            AUC_Train_l2.append(roc_auc_score(y_train,y_Train_pred_proba))\n",
    "        temp=roc_auc_score(y_CV,y_CV_pred_proba)\n",
    "        \n",
    "        if max1 < temp:\n",
    "            max1=temp        \n",
    "            c_opt=c\n",
    "            penalty_lin_tf_idf_W2V=pnlty\n"
   ]
  },
  {
   "cell_type": "code",
   "execution_count": 65,
   "metadata": {},
   "outputs": [
    {
     "name": "stdout",
     "output_type": "stream",
     "text": [
      "AUC is max when alpha is 0.0001, penalty is l1 with AUC = 0.8744146007852958\n"
     ]
    },
    {
     "data": {
      "image/png": "[encoded data removed]",
      "text/plain": [
       "<Figure size 432x288 with 1 Axes>"
      ]
     },
     "metadata": {
      "needs_background": "light"
     },
     "output_type": "display_data"
    }
   ],
   "source": [
    "print(\"AUC is max when alpha is {}, penalty is {} with AUC = {}\".format(c_opt,penalty_lin_tf_idf_W2V,max1))\n",
    "c_tf_idf_W2V_lin=c_opt\n",
    "if penalty_lin_tf_idf_W2V == 'l1':\n",
    "    AUC_CV=AUC_CV_l1   \n",
    "    AUC_Train=AUC_Train_l1\n",
    "else:\n",
    "    AUC_CV=AUC_CV_l2\n",
    "    AUC_Train=AUC_Train_l2\n",
    "plt.plot(np.log10(alpha),AUC_CV, label='SVM CV AUC')\n",
    "plt.plot(np.log10(alpha),AUC_Train,label='SVM Train AUC)')\n",
    "plt.xlabel('alpha')\n",
    "plt.ylabel('AUC')\n",
    "plt.legend()\n",
    "plt.title('SVM AUC curve')\n",
    "plt.show()\n"
   ]
  },
  {
   "cell_type": "code",
   "execution_count": 66,
   "metadata": {},
   "outputs": [
    {
     "name": "stdout",
     "output_type": "stream",
     "text": [
      "              precision    recall  f1-score   support\n",
      "\n",
      "           0       0.77      0.79      0.78      4213\n",
      "           1       0.79      0.77      0.78      4272\n",
      "\n",
      "    accuracy                           0.78      8485\n",
      "   macro avg       0.78      0.78      0.78      8485\n",
      "weighted avg       0.78      0.78      0.78      8485\n",
      "\n",
      "Test data AUC of SVM with tf_idf_W2V Implentation  :  0.8522496690731648\n",
      "Train data AUC of SVM with tf_idf_W2V Implentation  :  0.8650548721785841\n"
     ]
    },
    {
     "data": {
      "image/png": "[encoded data removed]",
      "text/plain": [
       "<Figure size 432x288 with 1 Axes>"
      ]
     },
     "metadata": {
      "needs_background": "light"
     },
     "output_type": "display_data"
    },
    {
     "name": "stdout",
     "output_type": "stream",
     "text": [
      "the maximum value of tpr*(1-fpr) 0.625296270837422 for threshold 0.496\n",
      "Train confusion matrix\n",
      "[[5391 1408]\n",
      " [1492 5566]]\n"
     ]
    },
    {
     "data": {
      "image/png": "[encoded data removed]",
      "text/plain": [
       "<Figure size 432x288 with 2 Axes>"
      ]
     },
     "metadata": {
      "needs_background": "light"
     },
     "output_type": "display_data"
    },
    {
     "name": "stdout",
     "output_type": "stream",
     "text": [
      "the maximum value of tpr*(1-fpr) 0.6087384686777417 for threshold 0.501\n",
      "Test confusion matrix\n",
      "[[3318  895]\n",
      " [ 970 3302]]\n"
     ]
    },
    {
     "data": {
      "image/png": "[encoded data removed]",
      "text/plain": [
       "<Figure size 432x288 with 2 Axes>"
      ]
     },
     "metadata": {
      "needs_background": "light"
     },
     "output_type": "display_data"
    },
    {
     "name": "stdout",
     "output_type": "stream",
     "text": [
      "Accuracy of SVM when alpha=0.0001, with penalty = l1 is 0.7796110783736004\n"
     ]
    }
   ],
   "source": [
    "SGD_tf_idf_W2V =SGDClassifier(loss='hinge',learning_rate='constant',alpha=c_tf_idf_W2V_lin,penalty=penalty_lin_tf_idf_W2V,eta0=0.1,max_iter=1000)\n",
    "SGD_tf_idf_W2V_lin=SGD_tf_idf_W2V.fit(X_train_tf_idf_W2V,y_train)\n",
    "\n",
    "cal_clf_tf_idf_W2V_lin=CalibratedClassifierCV(SGD_tf_idf_W2V_lin,cv='prefit')\n",
    "cal_clf_tf_idf_W2V_lin.fit(X_CV_tf_idf_W2V,y_CV)\n",
    "\n",
    "y_pred=cal_clf_tf_idf_W2V_lin.predict(X_test_tf_idf_W2V)\n",
    "print(classification_report(y_test,y_pred))\n",
    "\n",
    "#predict probabilities\n",
    "y_Test_pred_proba = cal_clf_tf_idf_W2V_lin.predict_proba(X_test_tf_idf_W2V)[:,1]\n",
    "y_Train_pred_proba = cal_clf_tf_idf_W2V_lin.predict_proba(X_train_tf_idf_W2V)[:,1]\n",
    "\n",
    "#code for AUC\n",
    "fpr_Test, tpr_Test, thresholds_Test = roc_curve(y_test, y_Test_pred_proba)\n",
    "fpr_Train, tpr_Train, thresholds_train = roc_curve(y_train, y_Train_pred_proba)\n",
    "print(\"Test data AUC of SVM with tf_idf_W2V Implentation  : \",roc_auc_score(y_test,y_Test_pred_proba))\n",
    "AUC_tf_idf_W2V_lin=roc_auc_score(y_test,y_Test_pred_proba)\n",
    "print(\"Train data AUC of SVM with tf_idf_W2V Implentation  : \",roc_auc_score(y_train,y_Train_pred_proba))\n",
    "\n",
    "\n",
    "#generate plot\n",
    "plt.plot(fpr_Test,tpr_Test, label='SVM Test ROC')\n",
    "plt.plot(fpr_Train,tpr_Train, label='SVM Train ROC')\n",
    "plt.xlabel('fpr')\n",
    "plt.ylabel('tpr')\n",
    "plt.legend()\n",
    "plt.title('SVM ROC curve')\n",
    "plt.show()\n",
    "\n",
    "\n",
    "#confusion matrix of train data\n",
    "best_t = find_best_threshold(thresholds_train, fpr_Train, tpr_Train)\n",
    "print(\"Train confusion matrix\")\n",
    "conf_matrix=confusion_matrix(y_train, predict_with_best_t(y_Train_pred_proba, best_t))\n",
    "print(confusion_matrix(y_train, predict_with_best_t(y_Train_pred_proba, best_t)))\n",
    "\n",
    "class_label = ['negative', 'positive']\n",
    "df_conf_matrix = pd.DataFrame(\n",
    "    conf_matrix, index=class_label, columns=class_label)\n",
    "sns.heatmap(df_conf_matrix, annot=True, fmt='d')\n",
    "plt.title(\"Confusion Matrix\")\n",
    "plt.xlabel(\"Predicted\")\n",
    "plt.ylabel(\"Actual\")\n",
    "plt.show()\n",
    "\n",
    "#confusion matrix of test data\n",
    "best_t = find_best_threshold(thresholds_Test, fpr_Test, tpr_Test)\n",
    "print(\"Test confusion matrix\")\n",
    "conf_matrix=confusion_matrix(y_test, predict_with_best_t(y_Test_pred_proba, best_t))\n",
    "print(confusion_matrix(y_test, predict_with_best_t(y_Test_pred_proba, best_t)))\n",
    "class_label = ['negative', 'positive']\n",
    "df_conf_matrix = pd.DataFrame(\n",
    "    conf_matrix, index=class_label, columns=class_label)\n",
    "sns.heatmap(df_conf_matrix, annot=True, fmt='d')\n",
    "plt.title(\"Confusion Matrix\")\n",
    "plt.xlabel(\"Predicted\")\n",
    "plt.ylabel(\"Actual\")\n",
    "plt.show()\n",
    "\n",
    "Accuracy_tf_idf_W2V_lin=cal_clf_tf_idf_W2V_lin.score(X_test_tf_idf_W2V, y_test)\n",
    "print('Accuracy of SVM when alpha={}, with penalty = {} is {}'.format(c_tf_idf_W2V_lin,penalty_lin_tf_idf_W2V,Accuracy_tf_idf_W2V_lin))\n"
   ]
  },
  {
   "cell_type": "markdown",
   "metadata": {},
   "source": [
    "###   Applying RBF SVM on TFIDF W2V,<font color='red'> SET 4</font>"
   ]
  },
  {
   "cell_type": "code",
   "execution_count": 67,
   "metadata": {},
   "outputs": [
    {
     "name": "stderr",
     "output_type": "stream",
     "text": [
      "100%|███████████████████████████████████████████████████████████████████████████████████| 9/9 [47:41<00:00, 317.95s/it]\n"
     ]
    }
   ],
   "source": [
    "\n",
    "max1=0\n",
    "AUC_Train=[]\n",
    "AUC_CV=[]\n",
    "#alpha = [10**x for x in range(-4,5)]\n",
    "#alpha = [10**-4]\n",
    "for c in tqdm(alpha):        \n",
    "    model=SVC(C=c, kernel='rbf', probability=True, cache_size=200, class_weight='balanced', decision_function_shape='ovo')\n",
    "    model_tf_idf_W2V=model.fit(X_train_tf_idf_W2V,y_train)         \n",
    "    y_CV_pred_proba = model_tf_idf_W2V.predict_proba(X_CV_tf_idf_W2V)[:,1]      \n",
    "    #cal_clf_BOW_cv=CalibratedClassifierCV(model_BOW,cv='prefit')\n",
    "    #cal_clf_BOW_cv.fit(X_train_BOW,y_train)\n",
    "    y_CV_pred_proba=model_tf_idf_W2V.predict_proba(X_CV_tf_idf_W2V) [:,1] \n",
    "    y_Train_pred_proba = model_tf_idf_W2V.predict_proba(X_train_tf_idf_W2V)[:,1] \n",
    "    #print(y_CV_pred_proba)\n",
    "    #print(y_CV)\n",
    "    temp=roc_auc_score(y_CV,y_CV_pred_proba)\n",
    "    AUC_CV.append(roc_auc_score(y_CV,y_CV_pred_proba))\n",
    "    if max1 < temp:\n",
    "        max1=temp        \n",
    "        c_opt=c\n",
    "    AUC_Train.append(roc_auc_score(y_train,y_Train_pred_proba))\n"
   ]
  },
  {
   "cell_type": "code",
   "execution_count": 68,
   "metadata": {},
   "outputs": [
    {
     "name": "stdout",
     "output_type": "stream",
     "text": [
      "AUC is max when alpha is 10 with AUC = 0.8977199882954181\n"
     ]
    },
    {
     "data": {
      "image/png": "[encoded data removed]",
      "text/plain": [
       "<Figure size 432x288 with 1 Axes>"
      ]
     },
     "metadata": {
      "needs_background": "light"
     },
     "output_type": "display_data"
    }
   ],
   "source": [
    "\n",
    "#Generate plot\n",
    "print(\"AUC is max when alpha is {} with AUC = {}\".format(c_opt,max1))\n",
    "c_tf_idf_W2V_rbf=c_opt\n",
    "plt.plot(np.log10(alpha),AUC_CV, label='SVM CV AUC')\n",
    "plt.plot(np.log10(alpha),AUC_Train,label='SVM Train AUC)')\n",
    "plt.xlabel('alpha')\n",
    "plt.ylabel('AUC')\n",
    "plt.legend()\n",
    "plt.title('Logistic AUC curve')\n",
    "plt.show()\n"
   ]
  },
  {
   "cell_type": "code",
   "execution_count": 69,
   "metadata": {},
   "outputs": [
    {
     "name": "stdout",
     "output_type": "stream",
     "text": [
      "              precision    recall  f1-score   support\n",
      "\n",
      "           0       0.81      0.84      0.82      4213\n",
      "           1       0.83      0.80      0.82      4272\n",
      "\n",
      "    accuracy                           0.82      8485\n",
      "   macro avg       0.82      0.82      0.82      8485\n",
      "weighted avg       0.82      0.82      0.82      8485\n",
      "\n",
      "Test data AUC of SVM with Tf_idf_W2V Implentation  :  0.8960510249619734\n",
      "Train data AUC of SVM with Tf_idf_W2V Implentation  :  0.9481634552711837\n"
     ]
    },
    {
     "data": {
      "image/png": "[encoded data removed]",
      "text/plain": [
       "<Figure size 432x288 with 1 Axes>"
      ]
     },
     "metadata": {
      "needs_background": "light"
     },
     "output_type": "display_data"
    },
    {
     "name": "stdout",
     "output_type": "stream",
     "text": [
      "the maximum value of tpr*(1-fpr) 0.782526358721848 for threshold 0.507\n",
      "Train confusion matrix\n",
      "[[6096  703]\n",
      " [ 898 6160]]\n"
     ]
    },
    {
     "data": {
      "image/png": "[encoded data removed]",
      "text/plain": [
       "<Figure size 432x288 with 2 Axes>"
      ]
     },
     "metadata": {
      "needs_background": "light"
     },
     "output_type": "display_data"
    },
    {
     "name": "stdout",
     "output_type": "stream",
     "text": [
      "the maximum value of tpr*(1-fpr) 0.6707831386887919 for threshold 0.535\n",
      "Test confusion matrix\n",
      "[[3592  621]\n",
      " [ 911 3361]]\n"
     ]
    },
    {
     "data": {
      "image/png": "[encoded data removed]",
      "text/plain": [
       "<Figure size 432x288 with 2 Axes>"
      ]
     },
     "metadata": {
      "needs_background": "light"
     },
     "output_type": "display_data"
    },
    {
     "name": "stdout",
     "output_type": "stream",
     "text": [
      "Accuracy of SVM when alpha=10 is 0.8186210960518562\n"
     ]
    }
   ],
   "source": [
    "SVC_tf_idf_W2V =SVC(C=c_tf_idf_W2V_rbf, kernel='rbf', probability=True, cache_size=200, class_weight='balanced', decision_function_shape='ovo')\n",
    "SVC_tf_idf_W2V_rbf=SVC_tf_idf_W2V.fit(X_train_tf_idf_W2V,y_train)\n",
    "\n",
    "#cal_clf_BOW_lin=CalibratedClassifierCV(SVC_BOW_rbf,cv='prefit')\n",
    "#cal_clf_BOW_lin.fit(X_CV_BOW,y_CV)\n",
    "\n",
    "y_pred=SVC_tf_idf_W2V_rbf.predict(X_test_tf_idf_W2V)\n",
    "print(classification_report(y_test,y_pred))\n",
    "\n",
    "#predict probabilities\n",
    "y_Test_pred_proba = SVC_tf_idf_W2V_rbf.predict_proba(X_test_tf_idf_W2V)[:,1]\n",
    "y_Train_pred_proba = SVC_tf_idf_W2V_rbf.predict_proba(X_train_tf_idf_W2V)[:,1]\n",
    "\n",
    "#code for AUC\n",
    "fpr_Test, tpr_Test, thresholds_Test = roc_curve(y_test, y_Test_pred_proba)\n",
    "fpr_Train, tpr_Train, thresholds_train = roc_curve(y_train, y_Train_pred_proba)\n",
    "print(\"Test data AUC of SVM with Tf_idf_W2V Implentation  : \",roc_auc_score(y_test,y_Test_pred_proba))\n",
    "AUC_tf_idf_W2V_rbf=roc_auc_score(y_test,y_Test_pred_proba)\n",
    "print(\"Train data AUC of SVM with Tf_idf_W2V Implentation  : \",roc_auc_score(y_train,y_Train_pred_proba))\n",
    "\n",
    "\n",
    "#generate plot\n",
    "plt.plot(fpr_Test,tpr_Test, label='SVM Test ROC')\n",
    "plt.plot(fpr_Train,tpr_Train, label='SVM Train ROC')\n",
    "plt.xlabel('fpr')\n",
    "plt.ylabel('tpr')\n",
    "plt.legend()\n",
    "plt.title('SVM ROC curve')\n",
    "plt.show()\n",
    "\n",
    "\n",
    "#confusion matrix of train data\n",
    "best_t = find_best_threshold(thresholds_train, fpr_Train, tpr_Train)\n",
    "print(\"Train confusion matrix\")\n",
    "conf_matrix=confusion_matrix(y_train, predict_with_best_t(y_Train_pred_proba, best_t))\n",
    "print(confusion_matrix(y_train, predict_with_best_t(y_Train_pred_proba, best_t)))\n",
    "\n",
    "class_label = ['negative', 'positive']\n",
    "df_conf_matrix = pd.DataFrame(\n",
    "    conf_matrix, index=class_label, columns=class_label)\n",
    "sns.heatmap(df_conf_matrix, annot=True, fmt='d')\n",
    "plt.title(\"Confusion Matrix\")\n",
    "plt.xlabel(\"Predicted\")\n",
    "plt.ylabel(\"Actual\")\n",
    "plt.show()\n",
    "\n",
    "#confusion matrix of test data\n",
    "best_t = find_best_threshold(thresholds_Test, fpr_Test, tpr_Test)\n",
    "print(\"Test confusion matrix\")\n",
    "conf_matrix=confusion_matrix(y_test, predict_with_best_t(y_Test_pred_proba, best_t))\n",
    "print(confusion_matrix(y_test, predict_with_best_t(y_Test_pred_proba, best_t)))\n",
    "class_label = ['negative', 'positive']\n",
    "df_conf_matrix = pd.DataFrame(\n",
    "    conf_matrix, index=class_label, columns=class_label)\n",
    "sns.heatmap(df_conf_matrix, annot=True, fmt='d')\n",
    "plt.title(\"Confusion Matrix\")\n",
    "plt.xlabel(\"Predicted\")\n",
    "plt.ylabel(\"Actual\")\n",
    "plt.show()\n",
    "\n",
    "Accuracy_tf_idf_W2V_rbf=SVC_tf_idf_W2V_rbf.score(X_test_tf_idf_W2V, y_test)\n",
    "print('Accuracy of SVM when alpha={} is {}'.format(c_tf_idf_W2V_rbf,Accuracy_tf_idf_W2V_rbf))"
   ]
  },
  {
   "cell_type": "code",
   "execution_count": 70,
   "metadata": {},
   "outputs": [
    {
     "name": "stdout",
     "output_type": "stream",
     "text": [
      "+------------------+-------------+---------------------+-------------------------+--------------------+---------------------+\n",
      "|    Vectorizer    | Kernal Type | Optimal regularizer | Hyper Parameter (alpha) |        AUC         |       Accuracy      |\n",
      "+------------------+-------------+---------------------+-------------------------+--------------------+---------------------+\n",
      "|       BOW        |    Linear   |          l2         |          0.0001         | 0.8525050280685713 | 0.25323527331871865 |\n",
      "|      TF-IDF      |    Linear   |          l2         |          0.0001         | 0.8491470233051329 | 0.16158687504419772 |\n",
      "| Avg Weighted W2V |    Linear   |          l1         |          0.0001         | 0.8828508526310606 |  0.8032999410724808 |\n",
      "|    TF-IDF W2V    |    Linear   |          l1         |          0.0001         | 0.8522496690731648 |  0.7796110783736004 |\n",
      "+------------------+-------------+---------------------+-------------------------+--------------------+---------------------+\n"
     ]
    }
   ],
   "source": [
    "#http://zetcode.com/python/prettytable/\n",
    "x=PrettyTable()\n",
    "x.field_names = [\"Vectorizer\", \"Kernal Type\",\"Optimal regularizer\", \"Hyper Parameter (alpha)\", \"AUC\",\"Accuracy\"]\n",
    "x.add_row([\"BOW\",\"Linear\" ,penalty_lin_BOW, c_BOW_lin, AUC_BOW_lin,Accuracy_BOW_lin])\n",
    "x.add_row([\"TF-IDF\", \"Linear\", penalty_lin_tf_idf,c_tf_idf_lin,AUC_tf_idf_lin,Accuracy_tf_idf_lin])\n",
    "x.add_row([\"Avg Weighted W2V\",\"Linear\" ,penalty_lin_Avg_W2V ,c_Avg_W2V_lin,AUC_Avg_W2V_lin,Accuracy_Avg_W2V_lin ])\n",
    "x.add_row([\"TF-IDF W2V\", \"Linear\",penalty_lin_tf_idf_W2V ,c_tf_idf_W2V_lin,AUC_tf_idf_W2V_lin,Accuracy_tf_idf_W2V_lin ])\n",
    "print(x)"
   ]
  },
  {
   "cell_type": "code",
   "execution_count": 71,
   "metadata": {},
   "outputs": [
    {
     "name": "stdout",
     "output_type": "stream",
     "text": [
      "+------------------+-------------+---------------------+-------------------------+--------------------+---------------------+\n",
      "|    Vectorizer    | Kernal Type | Optimal regularizer | Hyper Parameter (alpha) |        AUC         |       Accuracy      |\n",
      "+------------------+-------------+---------------------+-------------------------+--------------------+---------------------+\n",
      "|       BOW        |     RBF     |          -          |            1            | 0.8785359910950544 |  0.8198147231454636 |\n",
      "|      TF-IDF      |     RBF     |          -          |            10           | 0.8538601641779261 | 0.22728237041227636 |\n",
      "| Avg Weighted W2V |     RBF     |          -          |            1            | 0.913427336826375  |  0.8360636417206836 |\n",
      "|    TF-IDF W2V    |     RBF     |          -          |            10           | 0.8960510249619734 |  0.8186210960518562 |\n",
      "+------------------+-------------+---------------------+-------------------------+--------------------+---------------------+\n"
     ]
    }
   ],
   "source": [
    "#http://zetcode.com/python/prettytable/\n",
    "x=PrettyTable()\n",
    "x.field_names = [\"Vectorizer\", \"Kernal Type\",\"Optimal regularizer\", \"Hyper Parameter (alpha)\", \"AUC\",\"Accuracy\"]\n",
    "x.add_row([\"BOW\",\"RBF\" ,\"-\", c_BOW_rbf, AUC_BOW_rbf,Accuracy_BOW_rbf])\n",
    "x.add_row([\"TF-IDF\", \"RBF\", \"-\",c_tf_idf_rbf,AUC_tf_idf_rbf,Accuracy_tf_idf_rbf])\n",
    "x.add_row([\"Avg Weighted W2V\",\"RBF\" ,\"-\" ,c_Avg_W2V_rbf,AUC_Avg_W2V_rbf,Accuracy_Avg_W2V_rbf ])\n",
    "x.add_row([\"TF-IDF W2V\", \"RBF\",\"-\" ,c_tf_idf_W2V_rbf,AUC_tf_idf_W2V_rbf,Accuracy_tf_idf_W2V_rbf ])\n",
    "print(x)"
   ]
  },
  {
   "cell_type": "markdown",
   "metadata": {},
   "source": [
    "# [6] Conclusions"
   ]
  },
  {
   "cell_type": "markdown",
   "metadata": {},
   "source": [
    "<li>By abouve tables we can observe that in Linear Model Abg_weighted_W2V and tf_idf_w2v performs well than BOW and tf_idf vectr implementations</li>\n",
    "<li>In RBF kernel models BOW,tf_idf_W2V and Avg_weighted_W2V models performs well for test data.</li>\n",
    "<li>Optimal regularizer is 'L1' and optimal alpha value is 0.0001 for linear models and 1,10 for ebf kernel models.</li>\n",
    "<li>Highest accuracy is obtained for RBF kernel model with Avg_Weighted_W2V vectorizer implementation</li>"
   ]
  },
  {
   "cell_type": "code",
   "execution_count": null,
   "metadata": {},
   "outputs": [],
   "source": []
  }
 ],
 "metadata": {
  "kernelspec": {
   "display_name": "Python 3",
   "language": "python",
   "name": "python3"
  },
  "language_info": {
   "codemirror_mode": {
    "name": "ipython",
    "version": 3
   },
   "file_extension": ".py",
   "mimetype": "text/x-python",
   "name": "python",
   "nbconvert_exporter": "python",
   "pygments_lexer": "ipython3",
   "version": "3.6.9"
  }
 },
 "nbformat": 4,
 "nbformat_minor": 2
}
